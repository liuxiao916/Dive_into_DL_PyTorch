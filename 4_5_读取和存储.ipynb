{
  "nbformat": 4,
  "nbformat_minor": 0,
  "metadata": {
    "colab": {
      "name": "4.5 读取和存储.ipynb",
      "provenance": [],
      "authorship_tag": "ABX9TyMCzfT5M59JpgDGtgTJv9OK",
      "include_colab_link": true
    },
    "kernelspec": {
      "name": "python3",
      "display_name": "Python 3"
    },
    "language_info": {
      "name": "python"
    }
  },
  "cells": [
    {
      "cell_type": "markdown",
      "metadata": {
        "id": "view-in-github",
        "colab_type": "text"
      },
      "source": [
        "<a href=\"https://colab.research.google.com/github/liuxiao916/Dive_into_DL_PyTorch/blob/main/4_5_%E8%AF%BB%E5%8F%96%E5%92%8C%E5%AD%98%E5%82%A8.ipynb\" target=\"_parent\"><img src=\"https://colab.research.google.com/assets/colab-badge.svg\" alt=\"Open In Colab\"/></a>"
      ]
    },
    {
      "cell_type": "markdown",
      "metadata": {
        "id": "N4htlIhLugkR"
      },
      "source": [
        "## 4.5 读取和存储"
      ]
    },
    {
      "cell_type": "code",
      "metadata": {
        "id": "iYFYBkQguYd3"
      },
      "source": [
        "import torch\n",
        "from torch import nn"
      ],
      "execution_count": 2,
      "outputs": []
    },
    {
      "cell_type": "markdown",
      "metadata": {
        "id": "65DlFmMevp-b"
      },
      "source": [
        "### 4.5.1 读写Tensor"
      ]
    },
    {
      "cell_type": "code",
      "metadata": {
        "id": "vAAXUo5quiFO"
      },
      "source": [
        "x = torch.ones(3)\n",
        "torch.save(x, 'x.pt')"
      ],
      "execution_count": 3,
      "outputs": []
    },
    {
      "cell_type": "code",
      "metadata": {
        "colab": {
          "base_uri": "https://localhost:8080/"
        },
        "id": "p2MGmX7ywEFu",
        "outputId": "4c5c6cc3-478e-471e-d324-9336d259784d"
      },
      "source": [
        "x2 = torch.load('x.pt')\n",
        "x2"
      ],
      "execution_count": 4,
      "outputs": [
        {
          "output_type": "execute_result",
          "data": {
            "text/plain": [
              "tensor([1., 1., 1.])"
            ]
          },
          "metadata": {
            "tags": []
          },
          "execution_count": 4
        }
      ]
    },
    {
      "cell_type": "code",
      "metadata": {
        "colab": {
          "base_uri": "https://localhost:8080/"
        },
        "id": "n2Zd-CyLwHoO",
        "outputId": "1faa96ee-ac4b-4be2-e2b4-5d53eb3cff1e"
      },
      "source": [
        "y = torch.zeros(4)\n",
        "torch.save([x, y], 'xy.pt')\n",
        "xy_list = torch.load('xy.pt')\n",
        "xy_list"
      ],
      "execution_count": 5,
      "outputs": [
        {
          "output_type": "execute_result",
          "data": {
            "text/plain": [
              "[tensor([1., 1., 1.]), tensor([0., 0., 0., 0.])]"
            ]
          },
          "metadata": {
            "tags": []
          },
          "execution_count": 5
        }
      ]
    },
    {
      "cell_type": "code",
      "metadata": {
        "colab": {
          "base_uri": "https://localhost:8080/"
        },
        "id": "mM4c9yGDwNW9",
        "outputId": "5a9f113a-cbef-4b5d-c9b9-e4e25c0b48cf"
      },
      "source": [
        "torch.save({'x': x, 'y': y}, 'xy_dict.pt')\n",
        "xy = torch.load('xy_dict.pt')\n",
        "xy"
      ],
      "execution_count": 6,
      "outputs": [
        {
          "output_type": "execute_result",
          "data": {
            "text/plain": [
              "{'x': tensor([1., 1., 1.]), 'y': tensor([0., 0., 0., 0.])}"
            ]
          },
          "metadata": {
            "tags": []
          },
          "execution_count": 6
        }
      ]
    },
    {
      "cell_type": "markdown",
      "metadata": {
        "id": "e2Bp-uWlwTBh"
      },
      "source": [
        "### 4.5.2 读写模型"
      ]
    },
    {
      "cell_type": "markdown",
      "metadata": {
        "id": "vgRaErQ6wYOx"
      },
      "source": [
        "1. state_dict"
      ]
    },
    {
      "cell_type": "code",
      "metadata": {
        "colab": {
          "base_uri": "https://localhost:8080/"
        },
        "id": "5Ld0V6V6wSWi",
        "outputId": "8dd5a436-73f1-43c1-9579-ac9be9aa8f75"
      },
      "source": [
        "class MLP(nn.Module):\n",
        "    def __init__(self):\n",
        "        super(MLP, self).__init__()\n",
        "        self.hidden = nn.Linear(3, 2)\n",
        "        self.act = nn.ReLU()\n",
        "        self.output = nn.Linear(2, 1)\n",
        "\n",
        "    def forward(self, x):\n",
        "        a = self.act(self.hidden(x))\n",
        "        return self.output(a)\n",
        "\n",
        "net = MLP()\n",
        "net.state_dict()\n"
      ],
      "execution_count": 7,
      "outputs": [
        {
          "output_type": "execute_result",
          "data": {
            "text/plain": [
              "OrderedDict([('hidden.weight', tensor([[ 5.0908e-01,  4.3209e-04, -1.2920e-02],\n",
              "                      [ 1.0964e-01,  4.0891e-01,  2.4522e-01]])),\n",
              "             ('hidden.bias', tensor([-0.5677,  0.3438])),\n",
              "             ('output.weight', tensor([[0.5114, 0.0503]])),\n",
              "             ('output.bias', tensor([0.6290]))])"
            ]
          },
          "metadata": {
            "tags": []
          },
          "execution_count": 7
        }
      ]
    },
    {
      "cell_type": "code",
      "metadata": {
        "colab": {
          "base_uri": "https://localhost:8080/"
        },
        "id": "wdt2UIJxw2E7",
        "outputId": "f4be04c6-5118-4211-c717-856a8f9a9f35"
      },
      "source": [
        "for name, param in net.named_parameters():\n",
        "    print(name)\n",
        "    print(param)"
      ],
      "execution_count": 14,
      "outputs": [
        {
          "output_type": "stream",
          "text": [
            "hidden.weight\n",
            "Parameter containing:\n",
            "tensor([[ 5.0908e-01,  4.3209e-04, -1.2920e-02],\n",
            "        [ 1.0964e-01,  4.0891e-01,  2.4522e-01]], requires_grad=True)\n",
            "hidden.bias\n",
            "Parameter containing:\n",
            "tensor([-0.5677,  0.3438], requires_grad=True)\n",
            "output.weight\n",
            "Parameter containing:\n",
            "tensor([[0.5114, 0.0503]], requires_grad=True)\n",
            "output.bias\n",
            "Parameter containing:\n",
            "tensor([0.6290], requires_grad=True)\n"
          ],
          "name": "stdout"
        }
      ]
    },
    {
      "cell_type": "code",
      "metadata": {
        "colab": {
          "base_uri": "https://localhost:8080/"
        },
        "id": "Yl0nMOdBw4Ex",
        "outputId": "304151b9-08dd-43b4-cca9-5af927f557ed"
      },
      "source": [
        "optimizer = torch.optim.SGD(net.parameters(), lr=0.001, momentum=0.9)\n",
        "optimizer.state_dict()"
      ],
      "execution_count": 15,
      "outputs": [
        {
          "output_type": "execute_result",
          "data": {
            "text/plain": [
              "{'param_groups': [{'dampening': 0,\n",
              "   'lr': 0.001,\n",
              "   'momentum': 0.9,\n",
              "   'nesterov': False,\n",
              "   'params': [0, 1, 2, 3],\n",
              "   'weight_decay': 0}],\n",
              " 'state': {}}"
            ]
          },
          "metadata": {
            "tags": []
          },
          "execution_count": 15
        }
      ]
    },
    {
      "cell_type": "markdown",
      "metadata": {
        "id": "B2zFrEo2xaHY"
      },
      "source": [
        "2. 保存和加载模型"
      ]
    },
    {
      "cell_type": "code",
      "metadata": {
        "colab": {
          "base_uri": "https://localhost:8080/"
        },
        "id": "cT7rYYZ1xRiI",
        "outputId": "05141e6e-2dc6-417f-af7b-86ddf2e4d2e7"
      },
      "source": [
        "X = torch.randn(2, 3)\n",
        "Y = net(X)\n",
        "\n",
        "PATH = \"./net.pt\"\n",
        "torch.save(net.state_dict(), PATH)\n",
        "\n",
        "net2 = MLP()\n",
        "net2.load_state_dict(torch.load(PATH))\n",
        "Y2 = net2(X)\n",
        "Y2 == Y"
      ],
      "execution_count": 16,
      "outputs": [
        {
          "output_type": "execute_result",
          "data": {
            "text/plain": [
              "tensor([[True],\n",
              "        [True]])"
            ]
          },
          "metadata": {
            "tags": []
          },
          "execution_count": 16
        }
      ]
    },
    {
      "cell_type": "code",
      "metadata": {
        "id": "R-qKneuJya8Y"
      },
      "source": [
        "torch.save(net.state_dict(), PATH) "
      ],
      "execution_count": 18,
      "outputs": []
    },
    {
      "cell_type": "code",
      "metadata": {
        "colab": {
          "base_uri": "https://localhost:8080/"
        },
        "id": "t5iT36muyjsx",
        "outputId": "d58265f1-59a7-4e2d-c673-f9b941f9cfa5"
      },
      "source": [
        "net2 = MLP()\n",
        "net2.load_state_dict(torch.load(PATH))"
      ],
      "execution_count": 19,
      "outputs": [
        {
          "output_type": "execute_result",
          "data": {
            "text/plain": [
              "<All keys matched successfully>"
            ]
          },
          "metadata": {
            "tags": []
          },
          "execution_count": 19
        }
      ]
    },
    {
      "cell_type": "code",
      "metadata": {
        "id": "02g2lVunypMQ"
      },
      "source": [
        "torch.save(net, PATH)"
      ],
      "execution_count": 20,
      "outputs": []
    },
    {
      "cell_type": "code",
      "metadata": {
        "id": "wGVTyG2CysJJ"
      },
      "source": [
        "model = torch.load(PATH)"
      ],
      "execution_count": 21,
      "outputs": []
    },
    {
      "cell_type": "code",
      "metadata": {
        "id": "_U72fOtYytjs"
      },
      "source": [
        ""
      ],
      "execution_count": null,
      "outputs": []
    }
  ]
}