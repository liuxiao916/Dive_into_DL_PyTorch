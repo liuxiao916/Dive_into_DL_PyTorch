{
  "nbformat": 4,
  "nbformat_minor": 0,
  "metadata": {
    "colab": {
      "name": "4.2 模型参数的访问、初始化和共享.ipynb",
      "provenance": [],
      "authorship_tag": "ABX9TyMS1rgPN0w7l/P+F1gUmLs1",
      "include_colab_link": true
    },
    "kernelspec": {
      "name": "python3",
      "display_name": "Python 3"
    },
    "language_info": {
      "name": "python"
    }
  },
  "cells": [
    {
      "cell_type": "markdown",
      "metadata": {
        "id": "view-in-github",
        "colab_type": "text"
      },
      "source": [
        "<a href=\"https://colab.research.google.com/github/liuxiao916/Dive_into_DL_PyTorch/blob/main/4_2_%E6%A8%A1%E5%9E%8B%E5%8F%82%E6%95%B0%E7%9A%84%E8%AE%BF%E9%97%AE%E3%80%81%E5%88%9D%E5%A7%8B%E5%8C%96%E5%92%8C%E5%85%B1%E4%BA%AB.ipynb\" target=\"_parent\"><img src=\"https://colab.research.google.com/assets/colab-badge.svg\" alt=\"Open In Colab\"/></a>"
      ]
    },
    {
      "cell_type": "markdown",
      "metadata": {
        "id": "XHn4qLfqpUc3"
      },
      "source": [
        "## 4.2 模型参数的访问、初始化和共享"
      ]
    },
    {
      "cell_type": "markdown",
      "metadata": {
        "id": "OkhVsZEttFKF"
      },
      "source": [
        "此节参考：https://github.com/ShusenTang/Dive-into-DL-PyTorch/blob/master/docs/chapter04_DL_computation/4.2_parameters.md"
      ]
    },
    {
      "cell_type": "code",
      "metadata": {
        "colab": {
          "base_uri": "https://localhost:8080/"
        },
        "id": "mhrfLRuGolJJ",
        "outputId": "aaea1dc7-545b-4d28-c9a9-1cf30ba87667"
      },
      "source": [
        "import torch\n",
        "from torch import nn\n",
        "from torch.nn import init\n",
        "\n",
        "net = nn.Sequential(nn.Linear(4, 3), nn.ReLU(), nn.Linear(3, 1))  # pytorch已进行默认初始化\n",
        "\n",
        "print(net)\n",
        "X = torch.rand(2, 4)\n",
        "Y = net(X).sum()\n"
      ],
      "execution_count": 1,
      "outputs": [
        {
          "output_type": "stream",
          "text": [
            "Sequential(\n",
            "  (0): Linear(in_features=4, out_features=3, bias=True)\n",
            "  (1): ReLU()\n",
            "  (2): Linear(in_features=3, out_features=1, bias=True)\n",
            ")\n"
          ],
          "name": "stdout"
        }
      ]
    },
    {
      "cell_type": "markdown",
      "metadata": {
        "id": "vwVy6_t_phWl"
      },
      "source": [
        "### 4.2.1 访问模型参数"
      ]
    },
    {
      "cell_type": "code",
      "metadata": {
        "colab": {
          "base_uri": "https://localhost:8080/"
        },
        "id": "y6AelZOjpdA8",
        "outputId": "925031dd-73bb-40fe-9c60-9e7f6f2b5aa6"
      },
      "source": [
        "print(type(net.named_parameters()))\n",
        "for name, param in net.named_parameters():\n",
        "    print(name, param.size())"
      ],
      "execution_count": 2,
      "outputs": [
        {
          "output_type": "stream",
          "text": [
            "<class 'generator'>\n",
            "0.weight torch.Size([3, 4])\n",
            "0.bias torch.Size([3])\n",
            "2.weight torch.Size([1, 3])\n",
            "2.bias torch.Size([1])\n"
          ],
          "name": "stdout"
        }
      ]
    },
    {
      "cell_type": "code",
      "metadata": {
        "colab": {
          "base_uri": "https://localhost:8080/"
        },
        "id": "9k71nWJHrc9t",
        "outputId": "37f931b6-ad81-4ec6-f525-e0a7dfb46c10"
      },
      "source": [
        "for name, param in net[0].named_parameters():\n",
        "    print(name, param.size(), type(param))"
      ],
      "execution_count": 3,
      "outputs": [
        {
          "output_type": "stream",
          "text": [
            "weight torch.Size([3, 4]) <class 'torch.nn.parameter.Parameter'>\n",
            "bias torch.Size([3]) <class 'torch.nn.parameter.Parameter'>\n"
          ],
          "name": "stdout"
        }
      ]
    },
    {
      "cell_type": "code",
      "metadata": {
        "colab": {
          "base_uri": "https://localhost:8080/"
        },
        "id": "8iZBwTczt7v1",
        "outputId": "23bf2d08-2d4b-4c45-e354-93369eeafe97"
      },
      "source": [
        "class MyModel(nn.Module):\n",
        "    def __init__(self, **kwargs):\n",
        "        super(MyModel, self).__init__(**kwargs)\n",
        "        self.weight1 = nn.Parameter(torch.rand(20, 20))\n",
        "        self.weight2 = torch.rand(20, 20)\n",
        "    def forward(self, x):\n",
        "        pass\n",
        "    \n",
        "n = MyModel()\n",
        "for name, param in n.named_parameters():\n",
        "    print(name)\n"
      ],
      "execution_count": 4,
      "outputs": [
        {
          "output_type": "stream",
          "text": [
            "weight1\n"
          ],
          "name": "stdout"
        }
      ]
    },
    {
      "cell_type": "code",
      "metadata": {
        "colab": {
          "base_uri": "https://localhost:8080/"
        },
        "id": "SolGTmjuwdCU",
        "outputId": "ec53c994-0214-43ed-c705-4217f685ad57"
      },
      "source": [
        "weight_0 = list(net[0].parameters())[0]\n",
        "print(weight_0.data)\n",
        "print(weight_0.grad) \n",
        "Y.backward()\n",
        "print(weight_0.grad)"
      ],
      "execution_count": 5,
      "outputs": [
        {
          "output_type": "stream",
          "text": [
            "tensor([[ 0.3269, -0.4875, -0.0261, -0.1253],\n",
            "        [ 0.2044, -0.1036,  0.4002, -0.1182],\n",
            "        [ 0.3243,  0.3444,  0.1118, -0.3129]])\n",
            "None\n",
            "tensor([[ 0.0000,  0.0000,  0.0000,  0.0000],\n",
            "        [-0.0322, -0.0336, -0.0211, -0.0212],\n",
            "        [-0.0199, -0.0208, -0.0131, -0.0131]])\n"
          ],
          "name": "stdout"
        }
      ]
    },
    {
      "cell_type": "code",
      "metadata": {
        "colab": {
          "base_uri": "https://localhost:8080/"
        },
        "id": "g6lX6oI9wig5",
        "outputId": "b06b2c7d-41d1-4f50-dc4f-b6939e7b4388"
      },
      "source": [
        "for param in net[0].parameters():\n",
        "    print(param)"
      ],
      "execution_count": 6,
      "outputs": [
        {
          "output_type": "stream",
          "text": [
            "Parameter containing:\n",
            "tensor([[ 0.3269, -0.4875, -0.0261, -0.1253],\n",
            "        [ 0.2044, -0.1036,  0.4002, -0.1182],\n",
            "        [ 0.3243,  0.3444,  0.1118, -0.3129]], requires_grad=True)\n",
            "Parameter containing:\n",
            "tensor([0.1684, 0.2214, 0.2470], requires_grad=True)\n"
          ],
          "name": "stdout"
        }
      ]
    },
    {
      "cell_type": "code",
      "metadata": {
        "colab": {
          "base_uri": "https://localhost:8080/"
        },
        "id": "qGhFu47DxMqS",
        "outputId": "144b3cd2-4527-4635-f2de-6f3ee0412baf"
      },
      "source": [
        "net[0].weight"
      ],
      "execution_count": 7,
      "outputs": [
        {
          "output_type": "execute_result",
          "data": {
            "text/plain": [
              "Parameter containing:\n",
              "tensor([[ 0.3269, -0.4875, -0.0261, -0.1253],\n",
              "        [ 0.2044, -0.1036,  0.4002, -0.1182],\n",
              "        [ 0.3243,  0.3444,  0.1118, -0.3129]], requires_grad=True)"
            ]
          },
          "metadata": {
            "tags": []
          },
          "execution_count": 7
        }
      ]
    },
    {
      "cell_type": "markdown",
      "metadata": {
        "id": "IXRnmknxyt4-"
      },
      "source": [
        "### 4.2.2 初始化模型参数"
      ]
    },
    {
      "cell_type": "code",
      "metadata": {
        "colab": {
          "base_uri": "https://localhost:8080/"
        },
        "id": "1BMZLNaIxzL9",
        "outputId": "d8d609bb-f548-4888-a666-4c9aa985251c"
      },
      "source": [
        "for name, param in net.named_parameters():\n",
        "    if 'weight' in name:\n",
        "        init.normal_(param, mean=0, std=0.01)\n",
        "        print(name, param.data)"
      ],
      "execution_count": 8,
      "outputs": [
        {
          "output_type": "stream",
          "text": [
            "0.weight tensor([[ 0.0013,  0.0050, -0.0097,  0.0038],\n",
            "        [-0.0056, -0.0119, -0.0095,  0.0139],\n",
            "        [-0.0213,  0.0011,  0.0146, -0.0134]])\n",
            "2.weight tensor([[ 0.0200, -0.0158,  0.0161]])\n"
          ],
          "name": "stdout"
        }
      ]
    },
    {
      "cell_type": "code",
      "metadata": {
        "colab": {
          "base_uri": "https://localhost:8080/"
        },
        "id": "xTvYy60_yz2e",
        "outputId": "8abd264d-d720-4844-94ca-3a01a1e05c61"
      },
      "source": [
        "for name, param in net.named_parameters():\n",
        "    if 'bias' in name:\n",
        "        init.constant_(param, val=0)\n",
        "        print(name, param.data)"
      ],
      "execution_count": 9,
      "outputs": [
        {
          "output_type": "stream",
          "text": [
            "0.bias tensor([0., 0., 0.])\n",
            "2.bias tensor([0.])\n"
          ],
          "name": "stdout"
        }
      ]
    },
    {
      "cell_type": "markdown",
      "metadata": {
        "id": "zf7QprsOzezC"
      },
      "source": [
        "### 4.2.3 自定义初始化方法"
      ]
    },
    {
      "cell_type": "code",
      "metadata": {
        "id": "Q7hSJmgZzFAi"
      },
      "source": [
        "def normal_(tensor, mean=0, std=1):\n",
        "    with torch.no_grad():\n",
        "        return tensor.normal_(mean, std)\n"
      ],
      "execution_count": 10,
      "outputs": []
    },
    {
      "cell_type": "code",
      "metadata": {
        "colab": {
          "base_uri": "https://localhost:8080/"
        },
        "id": "A2VzAOg-zrx-",
        "outputId": "f7439b19-4269-4db8-da10-2fc1130549c8"
      },
      "source": [
        "def init_weight_(tensor):\n",
        "    with torch.no_grad():\n",
        "        tensor.uniform_(-10, 10)\n",
        "        tensor *= (tensor.abs() >= 5).float()\n",
        "\n",
        "for name, param in net.named_parameters():\n",
        "    if 'weight' in name:\n",
        "        init_weight_(param)\n",
        "        print(name, param.data)\n"
      ],
      "execution_count": 11,
      "outputs": [
        {
          "output_type": "stream",
          "text": [
            "0.weight tensor([[ 0.0000,  7.3752, -0.0000, -0.0000],\n",
            "        [-6.4828,  0.0000,  0.0000,  9.5461],\n",
            "        [ 9.6620,  0.0000,  0.0000,  8.8448]])\n",
            "2.weight tensor([[-8.1967,  0.0000, -0.0000]])\n"
          ],
          "name": "stdout"
        }
      ]
    },
    {
      "cell_type": "code",
      "metadata": {
        "colab": {
          "base_uri": "https://localhost:8080/"
        },
        "id": "38wMB2NN4Pkt",
        "outputId": "a22fe018-596d-4260-cf3a-a555bdf31663"
      },
      "source": [
        "for name, param in net.named_parameters():\n",
        "    if 'bias' in name:\n",
        "        param.data += 1\n",
        "        print(name, param.data)\n"
      ],
      "execution_count": 12,
      "outputs": [
        {
          "output_type": "stream",
          "text": [
            "0.bias tensor([1., 1., 1.])\n",
            "2.bias tensor([1.])\n"
          ],
          "name": "stdout"
        }
      ]
    },
    {
      "cell_type": "markdown",
      "metadata": {
        "id": "SsIs211A4vt3"
      },
      "source": [
        "### 4.2.4 共享模型参数"
      ]
    },
    {
      "cell_type": "code",
      "metadata": {
        "colab": {
          "base_uri": "https://localhost:8080/"
        },
        "id": "OJt2adp44dEK",
        "outputId": "bcda9dd1-e4a8-4094-cad9-6d6149a8b671"
      },
      "source": [
        "linear = nn.Linear(1, 1, bias=False)\n",
        "net = nn.Sequential(linear, linear) \n",
        "print(net)\n",
        "for name, param in net.named_parameters():\n",
        "    init.constant_(param, val=3)\n",
        "    print(name, param.data)\n"
      ],
      "execution_count": 13,
      "outputs": [
        {
          "output_type": "stream",
          "text": [
            "Sequential(\n",
            "  (0): Linear(in_features=1, out_features=1, bias=False)\n",
            "  (1): Linear(in_features=1, out_features=1, bias=False)\n",
            ")\n",
            "0.weight tensor([[3.]])\n"
          ],
          "name": "stdout"
        }
      ]
    },
    {
      "cell_type": "code",
      "metadata": {
        "colab": {
          "base_uri": "https://localhost:8080/"
        },
        "id": "aG7tyir55cYc",
        "outputId": "e219bbf0-629a-4af1-938d-ee5f2c0a8a65"
      },
      "source": [
        "print(id(net[0]) == id(net[1]))\n",
        "print(id(net[0].weight) == id(net[1].weight))"
      ],
      "execution_count": 14,
      "outputs": [
        {
          "output_type": "stream",
          "text": [
            "True\n",
            "True\n"
          ],
          "name": "stdout"
        }
      ]
    },
    {
      "cell_type": "code",
      "metadata": {
        "colab": {
          "base_uri": "https://localhost:8080/"
        },
        "id": "Q2u6lwmJ5epI",
        "outputId": "1837c10c-cc95-4149-d733-31d5e65bb485"
      },
      "source": [
        "x = torch.ones(1, 1)\n",
        "y = net(x).sum()\n",
        "print(y)\n",
        "y.backward()\n",
        "print(net[0].weight.grad) "
      ],
      "execution_count": 15,
      "outputs": [
        {
          "output_type": "stream",
          "text": [
            "tensor(9., grad_fn=<SumBackward0>)\n",
            "tensor([[6.]])\n"
          ],
          "name": "stdout"
        }
      ]
    },
    {
      "cell_type": "code",
      "metadata": {
        "id": "SLTiqARe5g7v"
      },
      "source": [
        ""
      ],
      "execution_count": 15,
      "outputs": []
    }
  ]
}