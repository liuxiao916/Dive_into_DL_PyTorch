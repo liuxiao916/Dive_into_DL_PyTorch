{
  "nbformat": 4,
  "nbformat_minor": 0,
  "metadata": {
    "colab": {
      "name": "3.6 softmax回归的从零开始实现.ipynb",
      "provenance": [],
      "authorship_tag": "ABX9TyMxiz1TOSeCXWycffZzXPc6",
      "include_colab_link": true
    },
    "kernelspec": {
      "name": "python3",
      "display_name": "Python 3"
    },
    "language_info": {
      "name": "python"
    },
    "widgets": {
      "application/vnd.jupyter.widget-state+json": {
        "f17c8a8816634ac7871af3a481b5de72": {
          "model_module": "@jupyter-widgets/controls",
          "model_name": "HBoxModel",
          "state": {
            "_view_name": "HBoxView",
            "_dom_classes": [],
            "_model_name": "HBoxModel",
            "_view_module": "@jupyter-widgets/controls",
            "_model_module_version": "1.5.0",
            "_view_count": null,
            "_view_module_version": "1.5.0",
            "box_style": "",
            "layout": "IPY_MODEL_7be4932aae414cda99ea1697c5da0a1b",
            "_model_module": "@jupyter-widgets/controls",
            "children": [
              "IPY_MODEL_82329c86c080435797f16b4e422088cc",
              "IPY_MODEL_bf9b8472df83444cb8075182ee84a0b7"
            ]
          }
        },
        "7be4932aae414cda99ea1697c5da0a1b": {
          "model_module": "@jupyter-widgets/base",
          "model_name": "LayoutModel",
          "state": {
            "_view_name": "LayoutView",
            "grid_template_rows": null,
            "right": null,
            "justify_content": null,
            "_view_module": "@jupyter-widgets/base",
            "overflow": null,
            "_model_module_version": "1.2.0",
            "_view_count": null,
            "flex_flow": null,
            "width": null,
            "min_width": null,
            "border": null,
            "align_items": null,
            "bottom": null,
            "_model_module": "@jupyter-widgets/base",
            "top": null,
            "grid_column": null,
            "overflow_y": null,
            "overflow_x": null,
            "grid_auto_flow": null,
            "grid_area": null,
            "grid_template_columns": null,
            "flex": null,
            "_model_name": "LayoutModel",
            "justify_items": null,
            "grid_row": null,
            "max_height": null,
            "align_content": null,
            "visibility": null,
            "align_self": null,
            "height": null,
            "min_height": null,
            "padding": null,
            "grid_auto_rows": null,
            "grid_gap": null,
            "max_width": null,
            "order": null,
            "_view_module_version": "1.2.0",
            "grid_template_areas": null,
            "object_position": null,
            "object_fit": null,
            "grid_auto_columns": null,
            "margin": null,
            "display": null,
            "left": null
          }
        },
        "82329c86c080435797f16b4e422088cc": {
          "model_module": "@jupyter-widgets/controls",
          "model_name": "FloatProgressModel",
          "state": {
            "_view_name": "ProgressView",
            "style": "IPY_MODEL_c991020c01dd4b9586c7a65945f5dc1b",
            "_dom_classes": [],
            "description": "",
            "_model_name": "FloatProgressModel",
            "bar_style": "success",
            "max": 26421880,
            "_view_module": "@jupyter-widgets/controls",
            "_model_module_version": "1.5.0",
            "value": 26421880,
            "_view_count": null,
            "_view_module_version": "1.5.0",
            "orientation": "horizontal",
            "min": 0,
            "description_tooltip": null,
            "_model_module": "@jupyter-widgets/controls",
            "layout": "IPY_MODEL_dabbada28b7643539363316b9fae62d5"
          }
        },
        "bf9b8472df83444cb8075182ee84a0b7": {
          "model_module": "@jupyter-widgets/controls",
          "model_name": "HTMLModel",
          "state": {
            "_view_name": "HTMLView",
            "style": "IPY_MODEL_f535dc49697a49ef9f3de5d0284a946c",
            "_dom_classes": [],
            "description": "",
            "_model_name": "HTMLModel",
            "placeholder": "​",
            "_view_module": "@jupyter-widgets/controls",
            "_model_module_version": "1.5.0",
            "value": " 26422272/? [02:01&lt;00:00, 218294.04it/s]",
            "_view_count": null,
            "_view_module_version": "1.5.0",
            "description_tooltip": null,
            "_model_module": "@jupyter-widgets/controls",
            "layout": "IPY_MODEL_879aca7ca7ae48d1a72853a621613946"
          }
        },
        "c991020c01dd4b9586c7a65945f5dc1b": {
          "model_module": "@jupyter-widgets/controls",
          "model_name": "ProgressStyleModel",
          "state": {
            "_view_name": "StyleView",
            "_model_name": "ProgressStyleModel",
            "description_width": "initial",
            "_view_module": "@jupyter-widgets/base",
            "_model_module_version": "1.5.0",
            "_view_count": null,
            "_view_module_version": "1.2.0",
            "bar_color": null,
            "_model_module": "@jupyter-widgets/controls"
          }
        },
        "dabbada28b7643539363316b9fae62d5": {
          "model_module": "@jupyter-widgets/base",
          "model_name": "LayoutModel",
          "state": {
            "_view_name": "LayoutView",
            "grid_template_rows": null,
            "right": null,
            "justify_content": null,
            "_view_module": "@jupyter-widgets/base",
            "overflow": null,
            "_model_module_version": "1.2.0",
            "_view_count": null,
            "flex_flow": null,
            "width": null,
            "min_width": null,
            "border": null,
            "align_items": null,
            "bottom": null,
            "_model_module": "@jupyter-widgets/base",
            "top": null,
            "grid_column": null,
            "overflow_y": null,
            "overflow_x": null,
            "grid_auto_flow": null,
            "grid_area": null,
            "grid_template_columns": null,
            "flex": null,
            "_model_name": "LayoutModel",
            "justify_items": null,
            "grid_row": null,
            "max_height": null,
            "align_content": null,
            "visibility": null,
            "align_self": null,
            "height": null,
            "min_height": null,
            "padding": null,
            "grid_auto_rows": null,
            "grid_gap": null,
            "max_width": null,
            "order": null,
            "_view_module_version": "1.2.0",
            "grid_template_areas": null,
            "object_position": null,
            "object_fit": null,
            "grid_auto_columns": null,
            "margin": null,
            "display": null,
            "left": null
          }
        },
        "f535dc49697a49ef9f3de5d0284a946c": {
          "model_module": "@jupyter-widgets/controls",
          "model_name": "DescriptionStyleModel",
          "state": {
            "_view_name": "StyleView",
            "_model_name": "DescriptionStyleModel",
            "description_width": "",
            "_view_module": "@jupyter-widgets/base",
            "_model_module_version": "1.5.0",
            "_view_count": null,
            "_view_module_version": "1.2.0",
            "_model_module": "@jupyter-widgets/controls"
          }
        },
        "879aca7ca7ae48d1a72853a621613946": {
          "model_module": "@jupyter-widgets/base",
          "model_name": "LayoutModel",
          "state": {
            "_view_name": "LayoutView",
            "grid_template_rows": null,
            "right": null,
            "justify_content": null,
            "_view_module": "@jupyter-widgets/base",
            "overflow": null,
            "_model_module_version": "1.2.0",
            "_view_count": null,
            "flex_flow": null,
            "width": null,
            "min_width": null,
            "border": null,
            "align_items": null,
            "bottom": null,
            "_model_module": "@jupyter-widgets/base",
            "top": null,
            "grid_column": null,
            "overflow_y": null,
            "overflow_x": null,
            "grid_auto_flow": null,
            "grid_area": null,
            "grid_template_columns": null,
            "flex": null,
            "_model_name": "LayoutModel",
            "justify_items": null,
            "grid_row": null,
            "max_height": null,
            "align_content": null,
            "visibility": null,
            "align_self": null,
            "height": null,
            "min_height": null,
            "padding": null,
            "grid_auto_rows": null,
            "grid_gap": null,
            "max_width": null,
            "order": null,
            "_view_module_version": "1.2.0",
            "grid_template_areas": null,
            "object_position": null,
            "object_fit": null,
            "grid_auto_columns": null,
            "margin": null,
            "display": null,
            "left": null
          }
        },
        "4a4e4047904244ef95d95c2f70a8cfb1": {
          "model_module": "@jupyter-widgets/controls",
          "model_name": "HBoxModel",
          "state": {
            "_view_name": "HBoxView",
            "_dom_classes": [],
            "_model_name": "HBoxModel",
            "_view_module": "@jupyter-widgets/controls",
            "_model_module_version": "1.5.0",
            "_view_count": null,
            "_view_module_version": "1.5.0",
            "box_style": "",
            "layout": "IPY_MODEL_cfdba7fd31a846b5a95be093172428ea",
            "_model_module": "@jupyter-widgets/controls",
            "children": [
              "IPY_MODEL_246303768fd14a398dc2f649efaebbc0",
              "IPY_MODEL_1635d5d189ed41bb89fa499d95b3408e"
            ]
          }
        },
        "cfdba7fd31a846b5a95be093172428ea": {
          "model_module": "@jupyter-widgets/base",
          "model_name": "LayoutModel",
          "state": {
            "_view_name": "LayoutView",
            "grid_template_rows": null,
            "right": null,
            "justify_content": null,
            "_view_module": "@jupyter-widgets/base",
            "overflow": null,
            "_model_module_version": "1.2.0",
            "_view_count": null,
            "flex_flow": null,
            "width": null,
            "min_width": null,
            "border": null,
            "align_items": null,
            "bottom": null,
            "_model_module": "@jupyter-widgets/base",
            "top": null,
            "grid_column": null,
            "overflow_y": null,
            "overflow_x": null,
            "grid_auto_flow": null,
            "grid_area": null,
            "grid_template_columns": null,
            "flex": null,
            "_model_name": "LayoutModel",
            "justify_items": null,
            "grid_row": null,
            "max_height": null,
            "align_content": null,
            "visibility": null,
            "align_self": null,
            "height": null,
            "min_height": null,
            "padding": null,
            "grid_auto_rows": null,
            "grid_gap": null,
            "max_width": null,
            "order": null,
            "_view_module_version": "1.2.0",
            "grid_template_areas": null,
            "object_position": null,
            "object_fit": null,
            "grid_auto_columns": null,
            "margin": null,
            "display": null,
            "left": null
          }
        },
        "246303768fd14a398dc2f649efaebbc0": {
          "model_module": "@jupyter-widgets/controls",
          "model_name": "FloatProgressModel",
          "state": {
            "_view_name": "ProgressView",
            "style": "IPY_MODEL_445658732972489fb68713e0ef652a6d",
            "_dom_classes": [],
            "description": "",
            "_model_name": "FloatProgressModel",
            "bar_style": "success",
            "max": 29515,
            "_view_module": "@jupyter-widgets/controls",
            "_model_module_version": "1.5.0",
            "value": 29515,
            "_view_count": null,
            "_view_module_version": "1.5.0",
            "orientation": "horizontal",
            "min": 0,
            "description_tooltip": null,
            "_model_module": "@jupyter-widgets/controls",
            "layout": "IPY_MODEL_21b11c95df50494c85f48017a03f5fcb"
          }
        },
        "1635d5d189ed41bb89fa499d95b3408e": {
          "model_module": "@jupyter-widgets/controls",
          "model_name": "HTMLModel",
          "state": {
            "_view_name": "HTMLView",
            "style": "IPY_MODEL_f28bcd37b6b34493b18ca753347e997a",
            "_dom_classes": [],
            "description": "",
            "_model_name": "HTMLModel",
            "placeholder": "​",
            "_view_module": "@jupyter-widgets/controls",
            "_model_module_version": "1.5.0",
            "value": " 29696/? [00:01&lt;00:00, 16907.98it/s]",
            "_view_count": null,
            "_view_module_version": "1.5.0",
            "description_tooltip": null,
            "_model_module": "@jupyter-widgets/controls",
            "layout": "IPY_MODEL_ab7202beff274b979765006d46534d50"
          }
        },
        "445658732972489fb68713e0ef652a6d": {
          "model_module": "@jupyter-widgets/controls",
          "model_name": "ProgressStyleModel",
          "state": {
            "_view_name": "StyleView",
            "_model_name": "ProgressStyleModel",
            "description_width": "initial",
            "_view_module": "@jupyter-widgets/base",
            "_model_module_version": "1.5.0",
            "_view_count": null,
            "_view_module_version": "1.2.0",
            "bar_color": null,
            "_model_module": "@jupyter-widgets/controls"
          }
        },
        "21b11c95df50494c85f48017a03f5fcb": {
          "model_module": "@jupyter-widgets/base",
          "model_name": "LayoutModel",
          "state": {
            "_view_name": "LayoutView",
            "grid_template_rows": null,
            "right": null,
            "justify_content": null,
            "_view_module": "@jupyter-widgets/base",
            "overflow": null,
            "_model_module_version": "1.2.0",
            "_view_count": null,
            "flex_flow": null,
            "width": null,
            "min_width": null,
            "border": null,
            "align_items": null,
            "bottom": null,
            "_model_module": "@jupyter-widgets/base",
            "top": null,
            "grid_column": null,
            "overflow_y": null,
            "overflow_x": null,
            "grid_auto_flow": null,
            "grid_area": null,
            "grid_template_columns": null,
            "flex": null,
            "_model_name": "LayoutModel",
            "justify_items": null,
            "grid_row": null,
            "max_height": null,
            "align_content": null,
            "visibility": null,
            "align_self": null,
            "height": null,
            "min_height": null,
            "padding": null,
            "grid_auto_rows": null,
            "grid_gap": null,
            "max_width": null,
            "order": null,
            "_view_module_version": "1.2.0",
            "grid_template_areas": null,
            "object_position": null,
            "object_fit": null,
            "grid_auto_columns": null,
            "margin": null,
            "display": null,
            "left": null
          }
        },
        "f28bcd37b6b34493b18ca753347e997a": {
          "model_module": "@jupyter-widgets/controls",
          "model_name": "DescriptionStyleModel",
          "state": {
            "_view_name": "StyleView",
            "_model_name": "DescriptionStyleModel",
            "description_width": "",
            "_view_module": "@jupyter-widgets/base",
            "_model_module_version": "1.5.0",
            "_view_count": null,
            "_view_module_version": "1.2.0",
            "_model_module": "@jupyter-widgets/controls"
          }
        },
        "ab7202beff274b979765006d46534d50": {
          "model_module": "@jupyter-widgets/base",
          "model_name": "LayoutModel",
          "state": {
            "_view_name": "LayoutView",
            "grid_template_rows": null,
            "right": null,
            "justify_content": null,
            "_view_module": "@jupyter-widgets/base",
            "overflow": null,
            "_model_module_version": "1.2.0",
            "_view_count": null,
            "flex_flow": null,
            "width": null,
            "min_width": null,
            "border": null,
            "align_items": null,
            "bottom": null,
            "_model_module": "@jupyter-widgets/base",
            "top": null,
            "grid_column": null,
            "overflow_y": null,
            "overflow_x": null,
            "grid_auto_flow": null,
            "grid_area": null,
            "grid_template_columns": null,
            "flex": null,
            "_model_name": "LayoutModel",
            "justify_items": null,
            "grid_row": null,
            "max_height": null,
            "align_content": null,
            "visibility": null,
            "align_self": null,
            "height": null,
            "min_height": null,
            "padding": null,
            "grid_auto_rows": null,
            "grid_gap": null,
            "max_width": null,
            "order": null,
            "_view_module_version": "1.2.0",
            "grid_template_areas": null,
            "object_position": null,
            "object_fit": null,
            "grid_auto_columns": null,
            "margin": null,
            "display": null,
            "left": null
          }
        },
        "258951cd14bc4025922914cb4ac1a67c": {
          "model_module": "@jupyter-widgets/controls",
          "model_name": "HBoxModel",
          "state": {
            "_view_name": "HBoxView",
            "_dom_classes": [],
            "_model_name": "HBoxModel",
            "_view_module": "@jupyter-widgets/controls",
            "_model_module_version": "1.5.0",
            "_view_count": null,
            "_view_module_version": "1.5.0",
            "box_style": "",
            "layout": "IPY_MODEL_2438bb8ce5ac44b0964ddd9ea65cf9fc",
            "_model_module": "@jupyter-widgets/controls",
            "children": [
              "IPY_MODEL_68da2a4e77f24f85a478cdee309a3cb0",
              "IPY_MODEL_8f34e8d8c4294cf2883bf4d03910c648"
            ]
          }
        },
        "2438bb8ce5ac44b0964ddd9ea65cf9fc": {
          "model_module": "@jupyter-widgets/base",
          "model_name": "LayoutModel",
          "state": {
            "_view_name": "LayoutView",
            "grid_template_rows": null,
            "right": null,
            "justify_content": null,
            "_view_module": "@jupyter-widgets/base",
            "overflow": null,
            "_model_module_version": "1.2.0",
            "_view_count": null,
            "flex_flow": null,
            "width": null,
            "min_width": null,
            "border": null,
            "align_items": null,
            "bottom": null,
            "_model_module": "@jupyter-widgets/base",
            "top": null,
            "grid_column": null,
            "overflow_y": null,
            "overflow_x": null,
            "grid_auto_flow": null,
            "grid_area": null,
            "grid_template_columns": null,
            "flex": null,
            "_model_name": "LayoutModel",
            "justify_items": null,
            "grid_row": null,
            "max_height": null,
            "align_content": null,
            "visibility": null,
            "align_self": null,
            "height": null,
            "min_height": null,
            "padding": null,
            "grid_auto_rows": null,
            "grid_gap": null,
            "max_width": null,
            "order": null,
            "_view_module_version": "1.2.0",
            "grid_template_areas": null,
            "object_position": null,
            "object_fit": null,
            "grid_auto_columns": null,
            "margin": null,
            "display": null,
            "left": null
          }
        },
        "68da2a4e77f24f85a478cdee309a3cb0": {
          "model_module": "@jupyter-widgets/controls",
          "model_name": "FloatProgressModel",
          "state": {
            "_view_name": "ProgressView",
            "style": "IPY_MODEL_6cc0c262e59540e180d0bb6fd49a3f8d",
            "_dom_classes": [],
            "description": "",
            "_model_name": "FloatProgressModel",
            "bar_style": "success",
            "max": 4422102,
            "_view_module": "@jupyter-widgets/controls",
            "_model_module_version": "1.5.0",
            "value": 4422102,
            "_view_count": null,
            "_view_module_version": "1.5.0",
            "orientation": "horizontal",
            "min": 0,
            "description_tooltip": null,
            "_model_module": "@jupyter-widgets/controls",
            "layout": "IPY_MODEL_732e99b51976412cb5af77c9bb86b2b2"
          }
        },
        "8f34e8d8c4294cf2883bf4d03910c648": {
          "model_module": "@jupyter-widgets/controls",
          "model_name": "HTMLModel",
          "state": {
            "_view_name": "HTMLView",
            "style": "IPY_MODEL_168a9b1e6b3941d085d0b842083a9990",
            "_dom_classes": [],
            "description": "",
            "_model_name": "HTMLModel",
            "placeholder": "​",
            "_view_module": "@jupyter-widgets/controls",
            "_model_module_version": "1.5.0",
            "value": " 4422656/? [00:01&lt;00:00, 3505891.00it/s]",
            "_view_count": null,
            "_view_module_version": "1.5.0",
            "description_tooltip": null,
            "_model_module": "@jupyter-widgets/controls",
            "layout": "IPY_MODEL_5ee16321c8bb4edeb3b97fa12928f513"
          }
        },
        "6cc0c262e59540e180d0bb6fd49a3f8d": {
          "model_module": "@jupyter-widgets/controls",
          "model_name": "ProgressStyleModel",
          "state": {
            "_view_name": "StyleView",
            "_model_name": "ProgressStyleModel",
            "description_width": "initial",
            "_view_module": "@jupyter-widgets/base",
            "_model_module_version": "1.5.0",
            "_view_count": null,
            "_view_module_version": "1.2.0",
            "bar_color": null,
            "_model_module": "@jupyter-widgets/controls"
          }
        },
        "732e99b51976412cb5af77c9bb86b2b2": {
          "model_module": "@jupyter-widgets/base",
          "model_name": "LayoutModel",
          "state": {
            "_view_name": "LayoutView",
            "grid_template_rows": null,
            "right": null,
            "justify_content": null,
            "_view_module": "@jupyter-widgets/base",
            "overflow": null,
            "_model_module_version": "1.2.0",
            "_view_count": null,
            "flex_flow": null,
            "width": null,
            "min_width": null,
            "border": null,
            "align_items": null,
            "bottom": null,
            "_model_module": "@jupyter-widgets/base",
            "top": null,
            "grid_column": null,
            "overflow_y": null,
            "overflow_x": null,
            "grid_auto_flow": null,
            "grid_area": null,
            "grid_template_columns": null,
            "flex": null,
            "_model_name": "LayoutModel",
            "justify_items": null,
            "grid_row": null,
            "max_height": null,
            "align_content": null,
            "visibility": null,
            "align_self": null,
            "height": null,
            "min_height": null,
            "padding": null,
            "grid_auto_rows": null,
            "grid_gap": null,
            "max_width": null,
            "order": null,
            "_view_module_version": "1.2.0",
            "grid_template_areas": null,
            "object_position": null,
            "object_fit": null,
            "grid_auto_columns": null,
            "margin": null,
            "display": null,
            "left": null
          }
        },
        "168a9b1e6b3941d085d0b842083a9990": {
          "model_module": "@jupyter-widgets/controls",
          "model_name": "DescriptionStyleModel",
          "state": {
            "_view_name": "StyleView",
            "_model_name": "DescriptionStyleModel",
            "description_width": "",
            "_view_module": "@jupyter-widgets/base",
            "_model_module_version": "1.5.0",
            "_view_count": null,
            "_view_module_version": "1.2.0",
            "_model_module": "@jupyter-widgets/controls"
          }
        },
        "5ee16321c8bb4edeb3b97fa12928f513": {
          "model_module": "@jupyter-widgets/base",
          "model_name": "LayoutModel",
          "state": {
            "_view_name": "LayoutView",
            "grid_template_rows": null,
            "right": null,
            "justify_content": null,
            "_view_module": "@jupyter-widgets/base",
            "overflow": null,
            "_model_module_version": "1.2.0",
            "_view_count": null,
            "flex_flow": null,
            "width": null,
            "min_width": null,
            "border": null,
            "align_items": null,
            "bottom": null,
            "_model_module": "@jupyter-widgets/base",
            "top": null,
            "grid_column": null,
            "overflow_y": null,
            "overflow_x": null,
            "grid_auto_flow": null,
            "grid_area": null,
            "grid_template_columns": null,
            "flex": null,
            "_model_name": "LayoutModel",
            "justify_items": null,
            "grid_row": null,
            "max_height": null,
            "align_content": null,
            "visibility": null,
            "align_self": null,
            "height": null,
            "min_height": null,
            "padding": null,
            "grid_auto_rows": null,
            "grid_gap": null,
            "max_width": null,
            "order": null,
            "_view_module_version": "1.2.0",
            "grid_template_areas": null,
            "object_position": null,
            "object_fit": null,
            "grid_auto_columns": null,
            "margin": null,
            "display": null,
            "left": null
          }
        },
        "a289628bc3c541358b28fbfd271ef9e6": {
          "model_module": "@jupyter-widgets/controls",
          "model_name": "HBoxModel",
          "state": {
            "_view_name": "HBoxView",
            "_dom_classes": [],
            "_model_name": "HBoxModel",
            "_view_module": "@jupyter-widgets/controls",
            "_model_module_version": "1.5.0",
            "_view_count": null,
            "_view_module_version": "1.5.0",
            "box_style": "",
            "layout": "IPY_MODEL_55a4ec0ef17d4ff3874099724d2b73e9",
            "_model_module": "@jupyter-widgets/controls",
            "children": [
              "IPY_MODEL_24733ba1067247c3996a6dd9d181e5fe",
              "IPY_MODEL_5090c551096f458781deffaf07f26932"
            ]
          }
        },
        "55a4ec0ef17d4ff3874099724d2b73e9": {
          "model_module": "@jupyter-widgets/base",
          "model_name": "LayoutModel",
          "state": {
            "_view_name": "LayoutView",
            "grid_template_rows": null,
            "right": null,
            "justify_content": null,
            "_view_module": "@jupyter-widgets/base",
            "overflow": null,
            "_model_module_version": "1.2.0",
            "_view_count": null,
            "flex_flow": null,
            "width": null,
            "min_width": null,
            "border": null,
            "align_items": null,
            "bottom": null,
            "_model_module": "@jupyter-widgets/base",
            "top": null,
            "grid_column": null,
            "overflow_y": null,
            "overflow_x": null,
            "grid_auto_flow": null,
            "grid_area": null,
            "grid_template_columns": null,
            "flex": null,
            "_model_name": "LayoutModel",
            "justify_items": null,
            "grid_row": null,
            "max_height": null,
            "align_content": null,
            "visibility": null,
            "align_self": null,
            "height": null,
            "min_height": null,
            "padding": null,
            "grid_auto_rows": null,
            "grid_gap": null,
            "max_width": null,
            "order": null,
            "_view_module_version": "1.2.0",
            "grid_template_areas": null,
            "object_position": null,
            "object_fit": null,
            "grid_auto_columns": null,
            "margin": null,
            "display": null,
            "left": null
          }
        },
        "24733ba1067247c3996a6dd9d181e5fe": {
          "model_module": "@jupyter-widgets/controls",
          "model_name": "FloatProgressModel",
          "state": {
            "_view_name": "ProgressView",
            "style": "IPY_MODEL_ec43e9612b0d4dcda16b9a0dd721e197",
            "_dom_classes": [],
            "description": "",
            "_model_name": "FloatProgressModel",
            "bar_style": "success",
            "max": 5148,
            "_view_module": "@jupyter-widgets/controls",
            "_model_module_version": "1.5.0",
            "value": 5148,
            "_view_count": null,
            "_view_module_version": "1.5.0",
            "orientation": "horizontal",
            "min": 0,
            "description_tooltip": null,
            "_model_module": "@jupyter-widgets/controls",
            "layout": "IPY_MODEL_aa1faced27e24537b2d7ad60424954e3"
          }
        },
        "5090c551096f458781deffaf07f26932": {
          "model_module": "@jupyter-widgets/controls",
          "model_name": "HTMLModel",
          "state": {
            "_view_name": "HTMLView",
            "style": "IPY_MODEL_25abe2cbceb74d4d99313b602727268b",
            "_dom_classes": [],
            "description": "",
            "_model_name": "HTMLModel",
            "placeholder": "​",
            "_view_module": "@jupyter-widgets/controls",
            "_model_module_version": "1.5.0",
            "value": " 6144/? [01:56&lt;00:00, 52.56it/s]",
            "_view_count": null,
            "_view_module_version": "1.5.0",
            "description_tooltip": null,
            "_model_module": "@jupyter-widgets/controls",
            "layout": "IPY_MODEL_29b32b8cfec24556adce2cfb27edae30"
          }
        },
        "ec43e9612b0d4dcda16b9a0dd721e197": {
          "model_module": "@jupyter-widgets/controls",
          "model_name": "ProgressStyleModel",
          "state": {
            "_view_name": "StyleView",
            "_model_name": "ProgressStyleModel",
            "description_width": "initial",
            "_view_module": "@jupyter-widgets/base",
            "_model_module_version": "1.5.0",
            "_view_count": null,
            "_view_module_version": "1.2.0",
            "bar_color": null,
            "_model_module": "@jupyter-widgets/controls"
          }
        },
        "aa1faced27e24537b2d7ad60424954e3": {
          "model_module": "@jupyter-widgets/base",
          "model_name": "LayoutModel",
          "state": {
            "_view_name": "LayoutView",
            "grid_template_rows": null,
            "right": null,
            "justify_content": null,
            "_view_module": "@jupyter-widgets/base",
            "overflow": null,
            "_model_module_version": "1.2.0",
            "_view_count": null,
            "flex_flow": null,
            "width": null,
            "min_width": null,
            "border": null,
            "align_items": null,
            "bottom": null,
            "_model_module": "@jupyter-widgets/base",
            "top": null,
            "grid_column": null,
            "overflow_y": null,
            "overflow_x": null,
            "grid_auto_flow": null,
            "grid_area": null,
            "grid_template_columns": null,
            "flex": null,
            "_model_name": "LayoutModel",
            "justify_items": null,
            "grid_row": null,
            "max_height": null,
            "align_content": null,
            "visibility": null,
            "align_self": null,
            "height": null,
            "min_height": null,
            "padding": null,
            "grid_auto_rows": null,
            "grid_gap": null,
            "max_width": null,
            "order": null,
            "_view_module_version": "1.2.0",
            "grid_template_areas": null,
            "object_position": null,
            "object_fit": null,
            "grid_auto_columns": null,
            "margin": null,
            "display": null,
            "left": null
          }
        },
        "25abe2cbceb74d4d99313b602727268b": {
          "model_module": "@jupyter-widgets/controls",
          "model_name": "DescriptionStyleModel",
          "state": {
            "_view_name": "StyleView",
            "_model_name": "DescriptionStyleModel",
            "description_width": "",
            "_view_module": "@jupyter-widgets/base",
            "_model_module_version": "1.5.0",
            "_view_count": null,
            "_view_module_version": "1.2.0",
            "_model_module": "@jupyter-widgets/controls"
          }
        },
        "29b32b8cfec24556adce2cfb27edae30": {
          "model_module": "@jupyter-widgets/base",
          "model_name": "LayoutModel",
          "state": {
            "_view_name": "LayoutView",
            "grid_template_rows": null,
            "right": null,
            "justify_content": null,
            "_view_module": "@jupyter-widgets/base",
            "overflow": null,
            "_model_module_version": "1.2.0",
            "_view_count": null,
            "flex_flow": null,
            "width": null,
            "min_width": null,
            "border": null,
            "align_items": null,
            "bottom": null,
            "_model_module": "@jupyter-widgets/base",
            "top": null,
            "grid_column": null,
            "overflow_y": null,
            "overflow_x": null,
            "grid_auto_flow": null,
            "grid_area": null,
            "grid_template_columns": null,
            "flex": null,
            "_model_name": "LayoutModel",
            "justify_items": null,
            "grid_row": null,
            "max_height": null,
            "align_content": null,
            "visibility": null,
            "align_self": null,
            "height": null,
            "min_height": null,
            "padding": null,
            "grid_auto_rows": null,
            "grid_gap": null,
            "max_width": null,
            "order": null,
            "_view_module_version": "1.2.0",
            "grid_template_areas": null,
            "object_position": null,
            "object_fit": null,
            "grid_auto_columns": null,
            "margin": null,
            "display": null,
            "left": null
          }
        }
      }
    }
  },
  "cells": [
    {
      "cell_type": "markdown",
      "metadata": {
        "id": "view-in-github",
        "colab_type": "text"
      },
      "source": [
        "<a href=\"https://colab.research.google.com/github/liuxiao916/Dive_into_DL_PyTorch/blob/main/3_6_softmax%E5%9B%9E%E5%BD%92%E7%9A%84%E4%BB%8E%E9%9B%B6%E5%BC%80%E5%A7%8B%E5%AE%9E%E7%8E%B0.ipynb\" target=\"_parent\"><img src=\"https://colab.research.google.com/assets/colab-badge.svg\" alt=\"Open In Colab\"/></a>"
      ]
    },
    {
      "cell_type": "markdown",
      "metadata": {
        "id": "hJRtXViuSjg0"
      },
      "source": [
        "## 3.6 softmax回归的从零开始实现\n"
      ]
    },
    {
      "cell_type": "code",
      "metadata": {
        "id": "0N8Dj2EoSSH7"
      },
      "source": [
        "%matplotlib inline\n",
        "import torch\n",
        "import numpy as np"
      ],
      "execution_count": 1,
      "outputs": []
    },
    {
      "cell_type": "markdown",
      "metadata": {
        "id": "2oIoHmGISwmB"
      },
      "source": [
        "### 3.6.1 读取数据集"
      ]
    },
    {
      "cell_type": "code",
      "metadata": {
        "colab": {
          "base_uri": "https://localhost:8080/",
          "height": 539,
          "referenced_widgets": [
            "f17c8a8816634ac7871af3a481b5de72",
            "7be4932aae414cda99ea1697c5da0a1b",
            "82329c86c080435797f16b4e422088cc",
            "bf9b8472df83444cb8075182ee84a0b7",
            "c991020c01dd4b9586c7a65945f5dc1b",
            "dabbada28b7643539363316b9fae62d5",
            "f535dc49697a49ef9f3de5d0284a946c",
            "879aca7ca7ae48d1a72853a621613946",
            "4a4e4047904244ef95d95c2f70a8cfb1",
            "cfdba7fd31a846b5a95be093172428ea",
            "246303768fd14a398dc2f649efaebbc0",
            "1635d5d189ed41bb89fa499d95b3408e",
            "445658732972489fb68713e0ef652a6d",
            "21b11c95df50494c85f48017a03f5fcb",
            "f28bcd37b6b34493b18ca753347e997a",
            "ab7202beff274b979765006d46534d50",
            "258951cd14bc4025922914cb4ac1a67c",
            "2438bb8ce5ac44b0964ddd9ea65cf9fc",
            "68da2a4e77f24f85a478cdee309a3cb0",
            "8f34e8d8c4294cf2883bf4d03910c648",
            "6cc0c262e59540e180d0bb6fd49a3f8d",
            "732e99b51976412cb5af77c9bb86b2b2",
            "168a9b1e6b3941d085d0b842083a9990",
            "5ee16321c8bb4edeb3b97fa12928f513",
            "a289628bc3c541358b28fbfd271ef9e6",
            "55a4ec0ef17d4ff3874099724d2b73e9",
            "24733ba1067247c3996a6dd9d181e5fe",
            "5090c551096f458781deffaf07f26932",
            "ec43e9612b0d4dcda16b9a0dd721e197",
            "aa1faced27e24537b2d7ad60424954e3",
            "25abe2cbceb74d4d99313b602727268b",
            "29b32b8cfec24556adce2cfb27edae30"
          ]
        },
        "id": "aLK29k5tSr3p",
        "outputId": "7c447683-802b-4ece-deca-5b9f971f8078"
      },
      "source": [
        "import torchvision\n",
        "Batch_size =256\n",
        "fashionmnist_train = torchvision.datasets.FashionMNIST(root = './data/fashionMNIST', train = True, transform=torchvision.transforms.ToTensor(),download=True)\n",
        "fashionmnist_train_dataloader = torch.utils.data.DataLoader(dataset= fashionmnist_train,batch_size = Batch_size, shuffle = True)\n",
        "fashionmnist_test = torchvision.datasets.FashionMNIST(root = './data/fashionMNIST', train = False, transform=torchvision.transforms.ToTensor(),download=True)\n",
        "fashionmnist_test_dataloader = torch.utils.data.DataLoader(dataset= fashionmnist_test,batch_size = Batch_size, shuffle = True)"
      ],
      "execution_count": 2,
      "outputs": [
        {
          "output_type": "stream",
          "text": [
            "Downloading http://fashion-mnist.s3-website.eu-central-1.amazonaws.com/train-images-idx3-ubyte.gz\n",
            "Downloading http://fashion-mnist.s3-website.eu-central-1.amazonaws.com/train-images-idx3-ubyte.gz to ./data/fashionMNIST/FashionMNIST/raw/train-images-idx3-ubyte.gz\n"
          ],
          "name": "stdout"
        },
        {
          "output_type": "display_data",
          "data": {
            "application/vnd.jupyter.widget-view+json": {
              "model_id": "f17c8a8816634ac7871af3a481b5de72",
              "version_minor": 0,
              "version_major": 2
            },
            "text/plain": [
              "HBox(children=(FloatProgress(value=0.0, max=26421880.0), HTML(value='')))"
            ]
          },
          "metadata": {
            "tags": []
          }
        },
        {
          "output_type": "stream",
          "text": [
            "\n",
            "Extracting ./data/fashionMNIST/FashionMNIST/raw/train-images-idx3-ubyte.gz to ./data/fashionMNIST/FashionMNIST/raw\n",
            "\n",
            "Downloading http://fashion-mnist.s3-website.eu-central-1.amazonaws.com/train-labels-idx1-ubyte.gz\n",
            "Downloading http://fashion-mnist.s3-website.eu-central-1.amazonaws.com/train-labels-idx1-ubyte.gz to ./data/fashionMNIST/FashionMNIST/raw/train-labels-idx1-ubyte.gz\n"
          ],
          "name": "stdout"
        },
        {
          "output_type": "display_data",
          "data": {
            "application/vnd.jupyter.widget-view+json": {
              "model_id": "4a4e4047904244ef95d95c2f70a8cfb1",
              "version_minor": 0,
              "version_major": 2
            },
            "text/plain": [
              "HBox(children=(FloatProgress(value=0.0, max=29515.0), HTML(value='')))"
            ]
          },
          "metadata": {
            "tags": []
          }
        },
        {
          "output_type": "stream",
          "text": [
            "\n",
            "Extracting ./data/fashionMNIST/FashionMNIST/raw/train-labels-idx1-ubyte.gz to ./data/fashionMNIST/FashionMNIST/raw\n",
            "\n",
            "Downloading http://fashion-mnist.s3-website.eu-central-1.amazonaws.com/t10k-images-idx3-ubyte.gz\n",
            "Downloading http://fashion-mnist.s3-website.eu-central-1.amazonaws.com/t10k-images-idx3-ubyte.gz to ./data/fashionMNIST/FashionMNIST/raw/t10k-images-idx3-ubyte.gz\n"
          ],
          "name": "stdout"
        },
        {
          "output_type": "display_data",
          "data": {
            "application/vnd.jupyter.widget-view+json": {
              "model_id": "258951cd14bc4025922914cb4ac1a67c",
              "version_minor": 0,
              "version_major": 2
            },
            "text/plain": [
              "HBox(children=(FloatProgress(value=0.0, max=4422102.0), HTML(value='')))"
            ]
          },
          "metadata": {
            "tags": []
          }
        },
        {
          "output_type": "stream",
          "text": [
            "\n",
            "Extracting ./data/fashionMNIST/FashionMNIST/raw/t10k-images-idx3-ubyte.gz to ./data/fashionMNIST/FashionMNIST/raw\n",
            "\n",
            "Downloading http://fashion-mnist.s3-website.eu-central-1.amazonaws.com/t10k-labels-idx1-ubyte.gz\n",
            "Downloading http://fashion-mnist.s3-website.eu-central-1.amazonaws.com/t10k-labels-idx1-ubyte.gz to ./data/fashionMNIST/FashionMNIST/raw/t10k-labels-idx1-ubyte.gz\n"
          ],
          "name": "stdout"
        },
        {
          "output_type": "display_data",
          "data": {
            "application/vnd.jupyter.widget-view+json": {
              "model_id": "a289628bc3c541358b28fbfd271ef9e6",
              "version_minor": 0,
              "version_major": 2
            },
            "text/plain": [
              "HBox(children=(FloatProgress(value=0.0, max=5148.0), HTML(value='')))"
            ]
          },
          "metadata": {
            "tags": []
          }
        },
        {
          "output_type": "stream",
          "text": [
            "\n",
            "Extracting ./data/fashionMNIST/FashionMNIST/raw/t10k-labels-idx1-ubyte.gz to ./data/fashionMNIST/FashionMNIST/raw\n",
            "\n"
          ],
          "name": "stdout"
        },
        {
          "output_type": "stream",
          "text": [
            "/usr/local/lib/python3.7/dist-packages/torchvision/datasets/mnist.py:498: UserWarning: The given NumPy array is not writeable, and PyTorch does not support non-writeable tensors. This means you can write to the underlying (supposedly non-writeable) NumPy array using the tensor. You may want to copy the array to protect its data or make it writeable before converting it to a tensor. This type of warning will be suppressed for the rest of this program. (Triggered internally at  /pytorch/torch/csrc/utils/tensor_numpy.cpp:180.)\n",
            "  return torch.from_numpy(parsed.astype(m[2], copy=False)).view(*s)\n"
          ],
          "name": "stderr"
        }
      ]
    },
    {
      "cell_type": "markdown",
      "metadata": {
        "id": "duoeS0YQUzJr"
      },
      "source": [
        "## 3.6.2 初始化模型参数"
      ]
    },
    {
      "cell_type": "code",
      "metadata": {
        "id": "t69930G7TFZz"
      },
      "source": [
        "num_inputs =784\n",
        "num_outputs = 10\n",
        "\n",
        "W =  torch.from_numpy(np.random.normal(scale = 0.01, size = (num_inputs, num_outputs))).float()\n",
        "b = torch.from_numpy(np.zeros(num_outputs)).float()"
      ],
      "execution_count": 3,
      "outputs": []
    },
    {
      "cell_type": "code",
      "metadata": {
        "colab": {
          "base_uri": "https://localhost:8080/"
        },
        "id": "DsIZ9EBOTI1N",
        "outputId": "a9798f69-b2c5-40f4-efe0-b6756211aaa7"
      },
      "source": [
        "W.requires_grad_()\n",
        "b.requires_grad_()"
      ],
      "execution_count": 4,
      "outputs": [
        {
          "output_type": "execute_result",
          "data": {
            "text/plain": [
              "tensor([0., 0., 0., 0., 0., 0., 0., 0., 0., 0.], requires_grad=True)"
            ]
          },
          "metadata": {
            "tags": []
          },
          "execution_count": 4
        }
      ]
    },
    {
      "cell_type": "markdown",
      "metadata": {
        "id": "pZ0_eRm0WNl-"
      },
      "source": [
        "### 3.6.3 实现softmax运算"
      ]
    },
    {
      "cell_type": "code",
      "metadata": {
        "colab": {
          "base_uri": "https://localhost:8080/"
        },
        "id": "rrUgyzydWNBQ",
        "outputId": "575755b4-537a-4437-bdce-94388b16cf2c"
      },
      "source": [
        "X = np.array([[1,2,3],[4,5,6]])\n",
        "X.sum(axis = 0,keepdims=True) , X.sum(axis = 1,keepdims=True)"
      ],
      "execution_count": 5,
      "outputs": [
        {
          "output_type": "execute_result",
          "data": {
            "text/plain": [
              "(array([[5, 7, 9]]), array([[ 6],\n",
              "        [15]]))"
            ]
          },
          "metadata": {
            "tags": []
          },
          "execution_count": 5
        }
      ]
    },
    {
      "cell_type": "code",
      "metadata": {
        "id": "0Qzm36VoVrfZ"
      },
      "source": [
        "def softmax(X):\n",
        "    X_exp = torch.exp(X)\n",
        "    partition = X_exp.sum(axis=1,keepdims = True)\n",
        "    return X_exp / partition    "
      ],
      "execution_count": 6,
      "outputs": []
    },
    {
      "cell_type": "code",
      "metadata": {
        "colab": {
          "base_uri": "https://localhost:8080/"
        },
        "id": "TNLc0XPXMsW0",
        "outputId": "479a8010-5cfc-4c0e-eb14-bfb1b7d21746"
      },
      "source": [
        "X = torch.from_numpy(np.random.normal(size=(2,5)))\n",
        "X_prob = softmax(X)\n",
        "X_prob, X_prob.sum(axis = 1)"
      ],
      "execution_count": 7,
      "outputs": [
        {
          "output_type": "execute_result",
          "data": {
            "text/plain": [
              "(tensor([[0.2224, 0.4360, 0.1423, 0.0337, 0.1657],\n",
              "         [0.3543, 0.2146, 0.1616, 0.1575, 0.1119]], dtype=torch.float64),\n",
              " tensor([1.0000, 1.0000], dtype=torch.float64))"
            ]
          },
          "metadata": {
            "tags": []
          },
          "execution_count": 7
        }
      ]
    },
    {
      "cell_type": "markdown",
      "metadata": {
        "id": "aiC5CROnWEAc"
      },
      "source": [
        "### 3.6.4 定义模型"
      ]
    },
    {
      "cell_type": "code",
      "metadata": {
        "id": "k86I7XGXOMOc"
      },
      "source": [
        "def net(X):\n",
        "    return softmax(torch.mm(X.reshape(-1,num_inputs),W)+b)"
      ],
      "execution_count": 8,
      "outputs": []
    },
    {
      "cell_type": "markdown",
      "metadata": {
        "id": "-ChglvrCEYY-"
      },
      "source": [
        "### 3.6.5 定义损失函数\n"
      ]
    },
    {
      "cell_type": "code",
      "metadata": {
        "colab": {
          "base_uri": "https://localhost:8080/"
        },
        "id": "DSq_aJj-EPq4",
        "outputId": "8d7596f9-6627-4682-8589-3aea226d975a"
      },
      "source": [
        "y_hat = torch.from_numpy(np.array([[0.1,0.3,0.6],[0.3,0.2,0.5]]))\n",
        "y = torch.from_numpy(np.array([0,2],dtype='int64'))\n",
        "y_hat.gather(1, y.view(-1, 1))"
      ],
      "execution_count": 9,
      "outputs": [
        {
          "output_type": "execute_result",
          "data": {
            "text/plain": [
              "tensor([[0.1000],\n",
              "        [0.5000]], dtype=torch.float64)"
            ]
          },
          "metadata": {
            "tags": []
          },
          "execution_count": 9
        }
      ]
    },
    {
      "cell_type": "code",
      "metadata": {
        "id": "AQTGewDmFY2O"
      },
      "source": [
        "def cross_entropy(y_hat,y):\n",
        "    return -torch.log(y_hat.gather(1, y.view(-1, 1)))"
      ],
      "execution_count": 10,
      "outputs": []
    },
    {
      "cell_type": "markdown",
      "metadata": {
        "id": "0Gkt97nfMDsY"
      },
      "source": [
        "### 3.6.6 计算分类准确率"
      ]
    },
    {
      "cell_type": "code",
      "metadata": {
        "id": "ChMjNiGrMCu4"
      },
      "source": [
        "def accuracy(y_hat, y):\n",
        "    return (y_hat.argmax(dim=1) == y).float().mean().item()"
      ],
      "execution_count": 11,
      "outputs": []
    },
    {
      "cell_type": "code",
      "metadata": {
        "colab": {
          "base_uri": "https://localhost:8080/"
        },
        "id": "5N_uq4UeOAyu",
        "outputId": "14532c28-397f-4976-8220-d3ceab090556"
      },
      "source": [
        "accuracy(y_hat,y)"
      ],
      "execution_count": 12,
      "outputs": [
        {
          "output_type": "execute_result",
          "data": {
            "text/plain": [
              "0.5"
            ]
          },
          "metadata": {
            "tags": []
          },
          "execution_count": 12
        }
      ]
    },
    {
      "cell_type": "code",
      "metadata": {
        "id": "BdIlaSmJOE8r"
      },
      "source": [
        "def evaluate_accuracy(data_iter, net):\n",
        "    acc_sum, n = 0.0, 0 \n",
        "    for X,y in data_iter:\n",
        "        acc_sum += (net(X).argmax(dim=1) == y).float().sum().item()\n",
        "        n += y.shape[0]\n",
        "    return acc_sum/n"
      ],
      "execution_count": 13,
      "outputs": []
    },
    {
      "cell_type": "code",
      "metadata": {
        "colab": {
          "base_uri": "https://localhost:8080/"
        },
        "id": "vtyfhTuiPEmn",
        "outputId": "43a1d021-5b12-47da-cdf4-eae539977953"
      },
      "source": [
        "evaluate_accuracy(fashionmnist_train_dataloader, net)"
      ],
      "execution_count": 14,
      "outputs": [
        {
          "output_type": "execute_result",
          "data": {
            "text/plain": [
              "0.04565"
            ]
          },
          "metadata": {
            "tags": []
          },
          "execution_count": 14
        }
      ]
    },
    {
      "cell_type": "markdown",
      "metadata": {
        "id": "8gqShgkmRQUO"
      },
      "source": [
        "### 3.6.7 训练模型"
      ]
    },
    {
      "cell_type": "code",
      "metadata": {
        "id": "q8iQ4wBdUHLa"
      },
      "source": [
        "def sgd(params, lr, batch_size):\n",
        "    for param in params:\n",
        "        param.data = param.data - lr*param.grad / batch_size"
      ],
      "execution_count": 15,
      "outputs": []
    },
    {
      "cell_type": "code",
      "metadata": {
        "colab": {
          "base_uri": "https://localhost:8080/"
        },
        "id": "MuqsR5YLQX0V",
        "outputId": "02034b94-9dcc-4ebe-df92-a492542145fa"
      },
      "source": [
        "num_epoch = 5\n",
        "lr = 0.1\n",
        "\n",
        "def train_ch3(net, train_iter,test_iter, loss, num_epochs, batch_size, params = None, lr = None, optimizer=None):\n",
        "    for epoch in range(num_epochs):\n",
        "        train_l_sum, train_acc_sum, n =0.0, 0.0, 0\n",
        "        for X,y in train_iter:\n",
        "            y_hat = net(X)\n",
        "            l = loss(y_hat, y).sum()\n",
        "            l.backward()\n",
        "            sgd(params, lr, batch_size)\n",
        "            \n",
        "            for param in params:\n",
        "                param.grad.data.zero_()\n",
        "\n",
        "            train_l_sum += l.item()\n",
        "            train_acc_sum += (y_hat.argmax(dim=1) == y).sum().item()\n",
        "            n += y.shape[0]\n",
        "        test_acc = evaluate_accuracy(test_iter, net)\n",
        "        print('epoch %d, loss %.4f, train acc %.3f, test acc %.3f' % (epoch + 1, train_l_sum / n, train_acc_sum / n, test_acc))\n",
        "\n",
        "train_ch3(net, fashionmnist_train_dataloader,fashionmnist_test_dataloader, cross_entropy, num_epoch, Batch_size, [W,b], lr )\n",
        "\n",
        "        "
      ],
      "execution_count": 16,
      "outputs": [
        {
          "output_type": "stream",
          "text": [
            "epoch 1, loss 0.7878, train acc 0.745, test acc 0.797\n",
            "epoch 2, loss 0.5712, train acc 0.813, test acc 0.813\n",
            "epoch 3, loss 0.5262, train acc 0.826, test acc 0.818\n",
            "epoch 4, loss 0.5007, train acc 0.832, test acc 0.823\n",
            "epoch 5, loss 0.4850, train acc 0.837, test acc 0.826\n"
          ],
          "name": "stdout"
        }
      ]
    },
    {
      "cell_type": "markdown",
      "metadata": {
        "id": "Uo5tjw01YvqA"
      },
      "source": [
        "### 3.6.8 预测"
      ]
    },
    {
      "cell_type": "code",
      "metadata": {
        "id": "59DB2UhQZen4"
      },
      "source": [
        "def use_svg_display():\n",
        "    from IPython import display\n",
        "    # 用矢量图显示\n",
        "    display.set_matplotlib_formats('svg')"
      ],
      "execution_count": 17,
      "outputs": []
    },
    {
      "cell_type": "code",
      "metadata": {
        "id": "bLiY-ehpZhxO"
      },
      "source": [
        "def get_fashion_mnist_labels(labels):\n",
        "    text_labels = ['t-shirt','trouser','pullover','dress','coat','sandal','shirt','sneaker','bag','ankle boot']\n",
        "    return [text_labels[i] for i in labels]"
      ],
      "execution_count": 18,
      "outputs": []
    },
    {
      "cell_type": "code",
      "metadata": {
        "id": "gaHrmRweZlel"
      },
      "source": [
        "def show_fashion_mnist(images, labels):\n",
        "    import matplotlib.pyplot as plt\n",
        "    use_svg_display()\n",
        "    _, figs = plt.subplots(1, len(images), figsize =(12,12))\n",
        "    for f , img , lbl in zip(figs, images, labels):\n",
        "        f.imshow(img.reshape((28,28)).numpy())\n",
        "        f.set_title(lbl)\n",
        "        f.axes.get_xaxis().set_visible(False)\n",
        "        f.axes.get_yaxis().set_visible(False)"
      ],
      "execution_count": 27,
      "outputs": []
    },
    {
      "cell_type": "code",
      "metadata": {
        "colab": {
          "base_uri": "https://localhost:8080/",
          "height": 167
        },
        "id": "PQEH-fmqXLgb",
        "outputId": "82640f77-3eb4-4045-ef88-49fc9c5f40fe"
      },
      "source": [
        "for X,y in fashionmnist_test_dataloader:\n",
        "    true_labels = get_fashion_mnist_labels(y)\n",
        "    pred_labels= get_fashion_mnist_labels(net(X).argmax(dim = 1).numpy())\n",
        "    titles = [true + '\\n' + pred for true, pred in zip(true_labels, pred_labels)]\n",
        "    show_fashion_mnist(X[0:9],titles[0:9]) \n",
        "    break \n"
      ],
      "execution_count": 28,
      "outputs": [
        {
          "output_type": "display_data",
          "data": {
            "text/plain": [
              "<Figure size 864x864 with 9 Axes>"
            ],
            "image/svg+xml": "<?xml version=\"1.0\" encoding=\"utf-8\" standalone=\"no\"?>\n<!DOCTYPE svg PUBLIC \"-//W3C//DTD SVG 1.1//EN\"\n  \"http://www.w3.org/Graphics/SVG/1.1/DTD/svg11.dtd\">\n<!-- Created with matplotlib (https://matplotlib.org/) -->\n<svg height=\"109.625311pt\" version=\"1.1\" viewBox=\"0 0 687.5 109.625311\" width=\"687.5pt\" xmlns=\"http://www.w3.org/2000/svg\" xmlns:xlink=\"http://www.w3.org/1999/xlink\">\n <defs>\n  <style type=\"text/css\">\n*{stroke-linecap:butt;stroke-linejoin:round;}\n  </style>\n </defs>\n <g id=\"figure_1\">\n  <g id=\"patch_1\">\n   <path d=\"M 0 109.625311 \nL 687.5 109.625311 \nL 687.5 0 \nL 0 0 \nz\n\" style=\"fill:none;\"/>\n  </g>\n  <g id=\"axes_1\">\n   <g id=\"patch_2\">\n    <path d=\"M 10.7 98.925311 \nL 73.869811 98.925311 \nL 73.869811 35.7555 \nL 10.7 35.7555 \nz\n\" style=\"fill:#ffffff;\"/>\n   </g>\n   <g clip-path=\"url(#pb5e0dba024)\">\n    <image height=\"64\" id=\"image8963478fe3\" transform=\"scale(1 -1)translate(0 -64)\" width=\"64\" x=\"10.7\" xlink:href=\"data:image/png;base64,\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\" y=\"-34.925311\"/>\n   </g>\n   <g id=\"patch_3\">\n    <path d=\"M 10.7 98.925311 \nL 10.7 35.7555 \n\" style=\"fill:none;stroke:#000000;stroke-linecap:square;stroke-linejoin:miter;stroke-width:0.8;\"/>\n   </g>\n   <g id=\"patch_4\">\n    <path d=\"M 73.869811 98.925311 \nL 73.869811 35.7555 \n\" style=\"fill:none;stroke:#000000;stroke-linecap:square;stroke-linejoin:miter;stroke-width:0.8;\"/>\n   </g>\n   <g id=\"patch_5\">\n    <path d=\"M 10.7 98.925311 \nL 73.869811 98.925311 \n\" style=\"fill:none;stroke:#000000;stroke-linecap:square;stroke-linejoin:miter;stroke-width:0.8;\"/>\n   </g>\n   <g id=\"patch_6\">\n    <path d=\"M 10.7 35.7555 \nL 73.869811 35.7555 \n\" style=\"fill:none;stroke:#000000;stroke-linecap:square;stroke-linejoin:miter;stroke-width:0.8;\"/>\n   </g>\n   <g id=\"text_1\">\n    <!-- coat -->\n    <defs>\n     <path d=\"M 48.78125 52.59375 \nL 48.78125 44.1875 \nQ 44.96875 46.296875 41.140625 47.34375 \nQ 37.3125 48.390625 33.40625 48.390625 \nQ 24.65625 48.390625 19.8125 42.84375 \nQ 14.984375 37.3125 14.984375 27.296875 \nQ 14.984375 17.28125 19.8125 11.734375 \nQ 24.65625 6.203125 33.40625 6.203125 \nQ 37.3125 6.203125 41.140625 7.25 \nQ 44.96875 8.296875 48.78125 10.40625 \nL 48.78125 2.09375 \nQ 45.015625 0.34375 40.984375 -0.53125 \nQ 36.96875 -1.421875 32.421875 -1.421875 \nQ 20.0625 -1.421875 12.78125 6.34375 \nQ 5.515625 14.109375 5.515625 27.296875 \nQ 5.515625 40.671875 12.859375 48.328125 \nQ 20.21875 56 33.015625 56 \nQ 37.15625 56 41.109375 55.140625 \nQ 45.0625 54.296875 48.78125 52.59375 \nz\n\" id=\"DejaVuSans-99\"/>\n     <path d=\"M 30.609375 48.390625 \nQ 23.390625 48.390625 19.1875 42.75 \nQ 14.984375 37.109375 14.984375 27.296875 \nQ 14.984375 17.484375 19.15625 11.84375 \nQ 23.34375 6.203125 30.609375 6.203125 \nQ 37.796875 6.203125 41.984375 11.859375 \nQ 46.1875 17.53125 46.1875 27.296875 \nQ 46.1875 37.015625 41.984375 42.703125 \nQ 37.796875 48.390625 30.609375 48.390625 \nz\nM 30.609375 56 \nQ 42.328125 56 49.015625 48.375 \nQ 55.71875 40.765625 55.71875 27.296875 \nQ 55.71875 13.875 49.015625 6.21875 \nQ 42.328125 -1.421875 30.609375 -1.421875 \nQ 18.84375 -1.421875 12.171875 6.21875 \nQ 5.515625 13.875 5.515625 27.296875 \nQ 5.515625 40.765625 12.171875 48.375 \nQ 18.84375 56 30.609375 56 \nz\n\" id=\"DejaVuSans-111\"/>\n     <path d=\"M 34.28125 27.484375 \nQ 23.390625 27.484375 19.1875 25 \nQ 14.984375 22.515625 14.984375 16.5 \nQ 14.984375 11.71875 18.140625 8.90625 \nQ 21.296875 6.109375 26.703125 6.109375 \nQ 34.1875 6.109375 38.703125 11.40625 \nQ 43.21875 16.703125 43.21875 25.484375 \nL 43.21875 27.484375 \nz\nM 52.203125 31.203125 \nL 52.203125 0 \nL 43.21875 0 \nL 43.21875 8.296875 \nQ 40.140625 3.328125 35.546875 0.953125 \nQ 30.953125 -1.421875 24.3125 -1.421875 \nQ 15.921875 -1.421875 10.953125 3.296875 \nQ 6 8.015625 6 15.921875 \nQ 6 25.140625 12.171875 29.828125 \nQ 18.359375 34.515625 30.609375 34.515625 \nL 43.21875 34.515625 \nL 43.21875 35.40625 \nQ 43.21875 41.609375 39.140625 45 \nQ 35.0625 48.390625 27.6875 48.390625 \nQ 23 48.390625 18.546875 47.265625 \nQ 14.109375 46.140625 10.015625 43.890625 \nL 10.015625 52.203125 \nQ 14.9375 54.109375 19.578125 55.046875 \nQ 24.21875 56 28.609375 56 \nQ 40.484375 56 46.34375 49.84375 \nQ 52.203125 43.703125 52.203125 31.203125 \nz\n\" id=\"DejaVuSans-97\"/>\n     <path d=\"M 18.3125 70.21875 \nL 18.3125 54.6875 \nL 36.8125 54.6875 \nL 36.8125 47.703125 \nL 18.3125 47.703125 \nL 18.3125 18.015625 \nQ 18.3125 11.328125 20.140625 9.421875 \nQ 21.96875 7.515625 27.59375 7.515625 \nL 36.8125 7.515625 \nL 36.8125 0 \nL 27.59375 0 \nQ 17.1875 0 13.234375 3.875 \nQ 9.28125 7.765625 9.28125 18.015625 \nL 9.28125 47.703125 \nL 2.6875 47.703125 \nL 2.6875 54.6875 \nL 9.28125 54.6875 \nL 9.28125 70.21875 \nz\n\" id=\"DejaVuSans-116\"/>\n    </defs>\n    <g transform=\"translate(29.285531 16.318125)scale(0.12 -0.12)\">\n     <use xlink:href=\"#DejaVuSans-99\"/>\n     <use x=\"54.980469\" xlink:href=\"#DejaVuSans-111\"/>\n     <use x=\"116.162109\" xlink:href=\"#DejaVuSans-97\"/>\n     <use x=\"177.441406\" xlink:href=\"#DejaVuSans-116\"/>\n    </g>\n    <!-- coat -->\n    <g transform=\"translate(29.285531 29.7555)scale(0.12 -0.12)\">\n     <use xlink:href=\"#DejaVuSans-99\"/>\n     <use x=\"54.980469\" xlink:href=\"#DejaVuSans-111\"/>\n     <use x=\"116.162109\" xlink:href=\"#DejaVuSans-97\"/>\n     <use x=\"177.441406\" xlink:href=\"#DejaVuSans-116\"/>\n    </g>\n   </g>\n  </g>\n  <g id=\"axes_2\">\n   <g id=\"patch_7\">\n    <path d=\"M 86.503774 98.925311 \nL 149.673585 98.925311 \nL 149.673585 35.7555 \nL 86.503774 35.7555 \nz\n\" style=\"fill:#ffffff;\"/>\n   </g>\n   <g clip-path=\"url(#p9a1fd19b6d)\">\n    <image height=\"64\" id=\"imagea0de87ec7f\" transform=\"scale(1 -1)translate(0 -64)\" width=\"64\" x=\"86.503774\" xlink:href=\"data:image/png;base64,\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\" y=\"-34.925311\"/>\n   </g>\n   <g id=\"patch_8\">\n    <path d=\"M 86.503774 98.925311 \nL 86.503774 35.7555 \n\" style=\"fill:none;stroke:#000000;stroke-linecap:square;stroke-linejoin:miter;stroke-width:0.8;\"/>\n   </g>\n   <g id=\"patch_9\">\n    <path d=\"M 149.673585 98.925311 \nL 149.673585 35.7555 \n\" style=\"fill:none;stroke:#000000;stroke-linecap:square;stroke-linejoin:miter;stroke-width:0.8;\"/>\n   </g>\n   <g id=\"patch_10\">\n    <path d=\"M 86.503774 98.925311 \nL 149.673585 98.925311 \n\" style=\"fill:none;stroke:#000000;stroke-linecap:square;stroke-linejoin:miter;stroke-width:0.8;\"/>\n   </g>\n   <g id=\"patch_11\">\n    <path d=\"M 86.503774 35.7555 \nL 149.673585 35.7555 \n\" style=\"fill:none;stroke:#000000;stroke-linecap:square;stroke-linejoin:miter;stroke-width:0.8;\"/>\n   </g>\n   <g id=\"text_2\">\n    <!-- ankle boot -->\n    <defs>\n     <path d=\"M 54.890625 33.015625 \nL 54.890625 0 \nL 45.90625 0 \nL 45.90625 32.71875 \nQ 45.90625 40.484375 42.875 44.328125 \nQ 39.84375 48.1875 33.796875 48.1875 \nQ 26.515625 48.1875 22.3125 43.546875 \nQ 18.109375 38.921875 18.109375 30.90625 \nL 18.109375 0 \nL 9.078125 0 \nL 9.078125 54.6875 \nL 18.109375 54.6875 \nL 18.109375 46.1875 \nQ 21.34375 51.125 25.703125 53.5625 \nQ 30.078125 56 35.796875 56 \nQ 45.21875 56 50.046875 50.171875 \nQ 54.890625 44.34375 54.890625 33.015625 \nz\n\" id=\"DejaVuSans-110\"/>\n     <path d=\"M 9.078125 75.984375 \nL 18.109375 75.984375 \nL 18.109375 31.109375 \nL 44.921875 54.6875 \nL 56.390625 54.6875 \nL 27.390625 29.109375 \nL 57.625 0 \nL 45.90625 0 \nL 18.109375 26.703125 \nL 18.109375 0 \nL 9.078125 0 \nz\n\" id=\"DejaVuSans-107\"/>\n     <path d=\"M 9.421875 75.984375 \nL 18.40625 75.984375 \nL 18.40625 0 \nL 9.421875 0 \nz\n\" id=\"DejaVuSans-108\"/>\n     <path d=\"M 56.203125 29.59375 \nL 56.203125 25.203125 \nL 14.890625 25.203125 \nQ 15.484375 15.921875 20.484375 11.0625 \nQ 25.484375 6.203125 34.421875 6.203125 \nQ 39.59375 6.203125 44.453125 7.46875 \nQ 49.3125 8.734375 54.109375 11.28125 \nL 54.109375 2.78125 \nQ 49.265625 0.734375 44.1875 -0.34375 \nQ 39.109375 -1.421875 33.890625 -1.421875 \nQ 20.796875 -1.421875 13.15625 6.1875 \nQ 5.515625 13.8125 5.515625 26.8125 \nQ 5.515625 40.234375 12.765625 48.109375 \nQ 20.015625 56 32.328125 56 \nQ 43.359375 56 49.78125 48.890625 \nQ 56.203125 41.796875 56.203125 29.59375 \nz\nM 47.21875 32.234375 \nQ 47.125 39.59375 43.09375 43.984375 \nQ 39.0625 48.390625 32.421875 48.390625 \nQ 24.90625 48.390625 20.390625 44.140625 \nQ 15.875 39.890625 15.1875 32.171875 \nz\n\" id=\"DejaVuSans-101\"/>\n     <path id=\"DejaVuSans-32\"/>\n     <path d=\"M 48.6875 27.296875 \nQ 48.6875 37.203125 44.609375 42.84375 \nQ 40.53125 48.484375 33.40625 48.484375 \nQ 26.265625 48.484375 22.1875 42.84375 \nQ 18.109375 37.203125 18.109375 27.296875 \nQ 18.109375 17.390625 22.1875 11.75 \nQ 26.265625 6.109375 33.40625 6.109375 \nQ 40.53125 6.109375 44.609375 11.75 \nQ 48.6875 17.390625 48.6875 27.296875 \nz\nM 18.109375 46.390625 \nQ 20.953125 51.265625 25.265625 53.625 \nQ 29.59375 56 35.59375 56 \nQ 45.5625 56 51.78125 48.09375 \nQ 58.015625 40.1875 58.015625 27.296875 \nQ 58.015625 14.40625 51.78125 6.484375 \nQ 45.5625 -1.421875 35.59375 -1.421875 \nQ 29.59375 -1.421875 25.265625 0.953125 \nQ 20.953125 3.328125 18.109375 8.203125 \nL 18.109375 0 \nL 9.078125 0 \nL 9.078125 75.984375 \nL 18.109375 75.984375 \nz\n\" id=\"DejaVuSans-98\"/>\n    </defs>\n    <g transform=\"translate(86.365554 16.318125)scale(0.12 -0.12)\">\n     <use xlink:href=\"#DejaVuSans-97\"/>\n     <use x=\"61.279297\" xlink:href=\"#DejaVuSans-110\"/>\n     <use x=\"124.658203\" xlink:href=\"#DejaVuSans-107\"/>\n     <use x=\"182.568359\" xlink:href=\"#DejaVuSans-108\"/>\n     <use x=\"210.351562\" xlink:href=\"#DejaVuSans-101\"/>\n     <use x=\"271.875\" xlink:href=\"#DejaVuSans-32\"/>\n     <use x=\"303.662109\" xlink:href=\"#DejaVuSans-98\"/>\n     <use x=\"367.138672\" xlink:href=\"#DejaVuSans-111\"/>\n     <use x=\"428.320312\" xlink:href=\"#DejaVuSans-111\"/>\n     <use x=\"489.501953\" xlink:href=\"#DejaVuSans-116\"/>\n    </g>\n    <!-- ankle boot -->\n    <g transform=\"translate(86.365554 29.7555)scale(0.12 -0.12)\">\n     <use xlink:href=\"#DejaVuSans-97\"/>\n     <use x=\"61.279297\" xlink:href=\"#DejaVuSans-110\"/>\n     <use x=\"124.658203\" xlink:href=\"#DejaVuSans-107\"/>\n     <use x=\"182.568359\" xlink:href=\"#DejaVuSans-108\"/>\n     <use x=\"210.351562\" xlink:href=\"#DejaVuSans-101\"/>\n     <use x=\"271.875\" xlink:href=\"#DejaVuSans-32\"/>\n     <use x=\"303.662109\" xlink:href=\"#DejaVuSans-98\"/>\n     <use x=\"367.138672\" xlink:href=\"#DejaVuSans-111\"/>\n     <use x=\"428.320312\" xlink:href=\"#DejaVuSans-111\"/>\n     <use x=\"489.501953\" xlink:href=\"#DejaVuSans-116\"/>\n    </g>\n   </g>\n  </g>\n  <g id=\"axes_3\">\n   <g id=\"patch_12\">\n    <path d=\"M 162.307547 98.925311 \nL 225.477358 98.925311 \nL 225.477358 35.7555 \nL 162.307547 35.7555 \nz\n\" style=\"fill:#ffffff;\"/>\n   </g>\n   <g clip-path=\"url(#pdea36cf525)\">\n    <image height=\"64\" id=\"imagef1ad4f7c38\" transform=\"scale(1 -1)translate(0 -64)\" width=\"64\" x=\"162.307547\" xlink:href=\"data:image/png;base64,\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\" y=\"-34.925311\"/>\n   </g>\n   <g id=\"patch_13\">\n    <path d=\"M 162.307547 98.925311 \nL 162.307547 35.7555 \n\" style=\"fill:none;stroke:#000000;stroke-linecap:square;stroke-linejoin:miter;stroke-width:0.8;\"/>\n   </g>\n   <g id=\"patch_14\">\n    <path d=\"M 225.477358 98.925311 \nL 225.477358 35.7555 \n\" style=\"fill:none;stroke:#000000;stroke-linecap:square;stroke-linejoin:miter;stroke-width:0.8;\"/>\n   </g>\n   <g id=\"patch_15\">\n    <path d=\"M 162.307547 98.925311 \nL 225.477358 98.925311 \n\" style=\"fill:none;stroke:#000000;stroke-linecap:square;stroke-linejoin:miter;stroke-width:0.8;\"/>\n   </g>\n   <g id=\"patch_16\">\n    <path d=\"M 162.307547 35.7555 \nL 225.477358 35.7555 \n\" style=\"fill:none;stroke:#000000;stroke-linecap:square;stroke-linejoin:miter;stroke-width:0.8;\"/>\n   </g>\n   <g id=\"text_3\">\n    <!-- coat -->\n    <g transform=\"translate(180.893078 16.318125)scale(0.12 -0.12)\">\n     <use xlink:href=\"#DejaVuSans-99\"/>\n     <use x=\"54.980469\" xlink:href=\"#DejaVuSans-111\"/>\n     <use x=\"116.162109\" xlink:href=\"#DejaVuSans-97\"/>\n     <use x=\"177.441406\" xlink:href=\"#DejaVuSans-116\"/>\n    </g>\n    <!-- shirt -->\n    <defs>\n     <path d=\"M 44.28125 53.078125 \nL 44.28125 44.578125 \nQ 40.484375 46.53125 36.375 47.5 \nQ 32.28125 48.484375 27.875 48.484375 \nQ 21.1875 48.484375 17.84375 46.4375 \nQ 14.5 44.390625 14.5 40.28125 \nQ 14.5 37.15625 16.890625 35.375 \nQ 19.28125 33.59375 26.515625 31.984375 \nL 29.59375 31.296875 \nQ 39.15625 29.25 43.1875 25.515625 \nQ 47.21875 21.78125 47.21875 15.09375 \nQ 47.21875 7.46875 41.1875 3.015625 \nQ 35.15625 -1.421875 24.609375 -1.421875 \nQ 20.21875 -1.421875 15.453125 -0.5625 \nQ 10.6875 0.296875 5.421875 2 \nL 5.421875 11.28125 \nQ 10.40625 8.6875 15.234375 7.390625 \nQ 20.0625 6.109375 24.8125 6.109375 \nQ 31.15625 6.109375 34.5625 8.28125 \nQ 37.984375 10.453125 37.984375 14.40625 \nQ 37.984375 18.0625 35.515625 20.015625 \nQ 33.0625 21.96875 24.703125 23.78125 \nL 21.578125 24.515625 \nQ 13.234375 26.265625 9.515625 29.90625 \nQ 5.8125 33.546875 5.8125 39.890625 \nQ 5.8125 47.609375 11.28125 51.796875 \nQ 16.75 56 26.8125 56 \nQ 31.78125 56 36.171875 55.265625 \nQ 40.578125 54.546875 44.28125 53.078125 \nz\n\" id=\"DejaVuSans-115\"/>\n     <path d=\"M 54.890625 33.015625 \nL 54.890625 0 \nL 45.90625 0 \nL 45.90625 32.71875 \nQ 45.90625 40.484375 42.875 44.328125 \nQ 39.84375 48.1875 33.796875 48.1875 \nQ 26.515625 48.1875 22.3125 43.546875 \nQ 18.109375 38.921875 18.109375 30.90625 \nL 18.109375 0 \nL 9.078125 0 \nL 9.078125 75.984375 \nL 18.109375 75.984375 \nL 18.109375 46.1875 \nQ 21.34375 51.125 25.703125 53.5625 \nQ 30.078125 56 35.796875 56 \nQ 45.21875 56 50.046875 50.171875 \nQ 54.890625 44.34375 54.890625 33.015625 \nz\n\" id=\"DejaVuSans-104\"/>\n     <path d=\"M 9.421875 54.6875 \nL 18.40625 54.6875 \nL 18.40625 0 \nL 9.421875 0 \nz\nM 9.421875 75.984375 \nL 18.40625 75.984375 \nL 18.40625 64.59375 \nL 9.421875 64.59375 \nz\n\" id=\"DejaVuSans-105\"/>\n     <path d=\"M 41.109375 46.296875 \nQ 39.59375 47.171875 37.8125 47.578125 \nQ 36.03125 48 33.890625 48 \nQ 26.265625 48 22.1875 43.046875 \nQ 18.109375 38.09375 18.109375 28.8125 \nL 18.109375 0 \nL 9.078125 0 \nL 9.078125 54.6875 \nL 18.109375 54.6875 \nL 18.109375 46.1875 \nQ 20.953125 51.171875 25.484375 53.578125 \nQ 30.03125 56 36.53125 56 \nQ 37.453125 56 38.578125 55.875 \nQ 39.703125 55.765625 41.0625 55.515625 \nz\n\" id=\"DejaVuSans-114\"/>\n    </defs>\n    <g transform=\"translate(180.478703 29.7555)scale(0.12 -0.12)\">\n     <use xlink:href=\"#DejaVuSans-115\"/>\n     <use x=\"52.099609\" xlink:href=\"#DejaVuSans-104\"/>\n     <use x=\"115.478516\" xlink:href=\"#DejaVuSans-105\"/>\n     <use x=\"143.261719\" xlink:href=\"#DejaVuSans-114\"/>\n     <use x=\"184.375\" xlink:href=\"#DejaVuSans-116\"/>\n    </g>\n   </g>\n  </g>\n  <g id=\"axes_4\">\n   <g id=\"patch_17\">\n    <path d=\"M 238.111321 98.925311 \nL 301.281132 98.925311 \nL 301.281132 35.7555 \nL 238.111321 35.7555 \nz\n\" style=\"fill:#ffffff;\"/>\n   </g>\n   <g clip-path=\"url(#p4803d9df7a)\">\n    <image height=\"64\" id=\"image9d6b54ab96\" transform=\"scale(1 -1)translate(0 -64)\" width=\"64\" x=\"238.111321\" xlink:href=\"data:image/png;base64,\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\" y=\"-34.925311\"/>\n   </g>\n   <g id=\"patch_18\">\n    <path d=\"M 238.111321 98.925311 \nL 238.111321 35.7555 \n\" style=\"fill:none;stroke:#000000;stroke-linecap:square;stroke-linejoin:miter;stroke-width:0.8;\"/>\n   </g>\n   <g id=\"patch_19\">\n    <path d=\"M 301.281132 98.925311 \nL 301.281132 35.7555 \n\" style=\"fill:none;stroke:#000000;stroke-linecap:square;stroke-linejoin:miter;stroke-width:0.8;\"/>\n   </g>\n   <g id=\"patch_20\">\n    <path d=\"M 238.111321 98.925311 \nL 301.281132 98.925311 \n\" style=\"fill:none;stroke:#000000;stroke-linecap:square;stroke-linejoin:miter;stroke-width:0.8;\"/>\n   </g>\n   <g id=\"patch_21\">\n    <path d=\"M 238.111321 35.7555 \nL 301.281132 35.7555 \n\" style=\"fill:none;stroke:#000000;stroke-linecap:square;stroke-linejoin:miter;stroke-width:0.8;\"/>\n   </g>\n   <g id=\"text_4\">\n    <!-- sneaker -->\n    <g transform=\"translate(245.984039 16.318125)scale(0.12 -0.12)\">\n     <use xlink:href=\"#DejaVuSans-115\"/>\n     <use x=\"52.099609\" xlink:href=\"#DejaVuSans-110\"/>\n     <use x=\"115.478516\" xlink:href=\"#DejaVuSans-101\"/>\n     <use x=\"177.001953\" xlink:href=\"#DejaVuSans-97\"/>\n     <use x=\"238.28125\" xlink:href=\"#DejaVuSans-107\"/>\n     <use x=\"292.566406\" xlink:href=\"#DejaVuSans-101\"/>\n     <use x=\"354.089844\" xlink:href=\"#DejaVuSans-114\"/>\n    </g>\n    <!-- sneaker -->\n    <g transform=\"translate(245.984039 29.7555)scale(0.12 -0.12)\">\n     <use xlink:href=\"#DejaVuSans-115\"/>\n     <use x=\"52.099609\" xlink:href=\"#DejaVuSans-110\"/>\n     <use x=\"115.478516\" xlink:href=\"#DejaVuSans-101\"/>\n     <use x=\"177.001953\" xlink:href=\"#DejaVuSans-97\"/>\n     <use x=\"238.28125\" xlink:href=\"#DejaVuSans-107\"/>\n     <use x=\"292.566406\" xlink:href=\"#DejaVuSans-101\"/>\n     <use x=\"354.089844\" xlink:href=\"#DejaVuSans-114\"/>\n    </g>\n   </g>\n  </g>\n  <g id=\"axes_5\">\n   <g id=\"patch_22\">\n    <path d=\"M 313.915094 98.925311 \nL 377.084906 98.925311 \nL 377.084906 35.7555 \nL 313.915094 35.7555 \nz\n\" style=\"fill:#ffffff;\"/>\n   </g>\n   <g clip-path=\"url(#p964d52f388)\">\n    <image height=\"64\" id=\"image22beebc9f2\" transform=\"scale(1 -1)translate(0 -64)\" width=\"64\" x=\"313.915094\" xlink:href=\"data:image/png;base64,\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\" y=\"-34.925311\"/>\n   </g>\n   <g id=\"patch_23\">\n    <path d=\"M 313.915094 98.925311 \nL 313.915094 35.7555 \n\" style=\"fill:none;stroke:#000000;stroke-linecap:square;stroke-linejoin:miter;stroke-width:0.8;\"/>\n   </g>\n   <g id=\"patch_24\">\n    <path d=\"M 377.084906 98.925311 \nL 377.084906 35.7555 \n\" style=\"fill:none;stroke:#000000;stroke-linecap:square;stroke-linejoin:miter;stroke-width:0.8;\"/>\n   </g>\n   <g id=\"patch_25\">\n    <path d=\"M 313.915094 98.925311 \nL 377.084906 98.925311 \n\" style=\"fill:none;stroke:#000000;stroke-linecap:square;stroke-linejoin:miter;stroke-width:0.8;\"/>\n   </g>\n   <g id=\"patch_26\">\n    <path d=\"M 313.915094 35.7555 \nL 377.084906 35.7555 \n\" style=\"fill:none;stroke:#000000;stroke-linecap:square;stroke-linejoin:miter;stroke-width:0.8;\"/>\n   </g>\n   <g id=\"text_5\">\n    <!-- trouser -->\n    <defs>\n     <path d=\"M 8.5 21.578125 \nL 8.5 54.6875 \nL 17.484375 54.6875 \nL 17.484375 21.921875 \nQ 17.484375 14.15625 20.5 10.265625 \nQ 23.53125 6.390625 29.59375 6.390625 \nQ 36.859375 6.390625 41.078125 11.03125 \nQ 45.3125 15.671875 45.3125 23.6875 \nL 45.3125 54.6875 \nL 54.296875 54.6875 \nL 54.296875 0 \nL 45.3125 0 \nL 45.3125 8.40625 \nQ 42.046875 3.421875 37.71875 1 \nQ 33.40625 -1.421875 27.6875 -1.421875 \nQ 18.265625 -1.421875 13.375 4.4375 \nQ 8.5 10.296875 8.5 21.578125 \nz\nM 31.109375 56 \nz\n\" id=\"DejaVuSans-117\"/>\n    </defs>\n    <g transform=\"translate(324.058438 16.318125)scale(0.12 -0.12)\">\n     <use xlink:href=\"#DejaVuSans-116\"/>\n     <use x=\"39.208984\" xlink:href=\"#DejaVuSans-114\"/>\n     <use x=\"78.072266\" xlink:href=\"#DejaVuSans-111\"/>\n     <use x=\"139.253906\" xlink:href=\"#DejaVuSans-117\"/>\n     <use x=\"202.632812\" xlink:href=\"#DejaVuSans-115\"/>\n     <use x=\"254.732422\" xlink:href=\"#DejaVuSans-101\"/>\n     <use x=\"316.255859\" xlink:href=\"#DejaVuSans-114\"/>\n    </g>\n    <!-- trouser -->\n    <g transform=\"translate(324.058438 29.7555)scale(0.12 -0.12)\">\n     <use xlink:href=\"#DejaVuSans-116\"/>\n     <use x=\"39.208984\" xlink:href=\"#DejaVuSans-114\"/>\n     <use x=\"78.072266\" xlink:href=\"#DejaVuSans-111\"/>\n     <use x=\"139.253906\" xlink:href=\"#DejaVuSans-117\"/>\n     <use x=\"202.632812\" xlink:href=\"#DejaVuSans-115\"/>\n     <use x=\"254.732422\" xlink:href=\"#DejaVuSans-101\"/>\n     <use x=\"316.255859\" xlink:href=\"#DejaVuSans-114\"/>\n    </g>\n   </g>\n  </g>\n  <g id=\"axes_6\">\n   <g id=\"patch_27\">\n    <path d=\"M 389.718868 98.925311 \nL 452.888679 98.925311 \nL 452.888679 35.7555 \nL 389.718868 35.7555 \nz\n\" style=\"fill:#ffffff;\"/>\n   </g>\n   <g clip-path=\"url(#p4d1e299b3f)\">\n    <image height=\"64\" id=\"imageca27b721d8\" transform=\"scale(1 -1)translate(0 -64)\" width=\"64\" x=\"389.718868\" xlink:href=\"data:image/png;base64,\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\" y=\"-34.925311\"/>\n   </g>\n   <g id=\"patch_28\">\n    <path d=\"M 389.718868 98.925311 \nL 389.718868 35.7555 \n\" style=\"fill:none;stroke:#000000;stroke-linecap:square;stroke-linejoin:miter;stroke-width:0.8;\"/>\n   </g>\n   <g id=\"patch_29\">\n    <path d=\"M 452.888679 98.925311 \nL 452.888679 35.7555 \n\" style=\"fill:none;stroke:#000000;stroke-linecap:square;stroke-linejoin:miter;stroke-width:0.8;\"/>\n   </g>\n   <g id=\"patch_30\">\n    <path d=\"M 389.718868 98.925311 \nL 452.888679 98.925311 \n\" style=\"fill:none;stroke:#000000;stroke-linecap:square;stroke-linejoin:miter;stroke-width:0.8;\"/>\n   </g>\n   <g id=\"patch_31\">\n    <path d=\"M 389.718868 35.7555 \nL 452.888679 35.7555 \n\" style=\"fill:none;stroke:#000000;stroke-linecap:square;stroke-linejoin:miter;stroke-width:0.8;\"/>\n   </g>\n   <g id=\"text_6\">\n    <!-- trouser -->\n    <g transform=\"translate(399.862211 16.318125)scale(0.12 -0.12)\">\n     <use xlink:href=\"#DejaVuSans-116\"/>\n     <use x=\"39.208984\" xlink:href=\"#DejaVuSans-114\"/>\n     <use x=\"78.072266\" xlink:href=\"#DejaVuSans-111\"/>\n     <use x=\"139.253906\" xlink:href=\"#DejaVuSans-117\"/>\n     <use x=\"202.632812\" xlink:href=\"#DejaVuSans-115\"/>\n     <use x=\"254.732422\" xlink:href=\"#DejaVuSans-101\"/>\n     <use x=\"316.255859\" xlink:href=\"#DejaVuSans-114\"/>\n    </g>\n    <!-- trouser -->\n    <g transform=\"translate(399.862211 29.7555)scale(0.12 -0.12)\">\n     <use xlink:href=\"#DejaVuSans-116\"/>\n     <use x=\"39.208984\" xlink:href=\"#DejaVuSans-114\"/>\n     <use x=\"78.072266\" xlink:href=\"#DejaVuSans-111\"/>\n     <use x=\"139.253906\" xlink:href=\"#DejaVuSans-117\"/>\n     <use x=\"202.632812\" xlink:href=\"#DejaVuSans-115\"/>\n     <use x=\"254.732422\" xlink:href=\"#DejaVuSans-101\"/>\n     <use x=\"316.255859\" xlink:href=\"#DejaVuSans-114\"/>\n    </g>\n   </g>\n  </g>\n  <g id=\"axes_7\">\n   <g id=\"patch_32\">\n    <path d=\"M 465.522642 98.925311 \nL 528.692453 98.925311 \nL 528.692453 35.7555 \nL 465.522642 35.7555 \nz\n\" style=\"fill:#ffffff;\"/>\n   </g>\n   <g clip-path=\"url(#p6a2c979c83)\">\n    <image height=\"64\" id=\"image2e96936e9d\" transform=\"scale(1 -1)translate(0 -64)\" width=\"64\" x=\"465.522642\" xlink:href=\"data:image/png;base64,\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\" y=\"-34.925311\"/>\n   </g>\n   <g id=\"patch_33\">\n    <path d=\"M 465.522642 98.925311 \nL 465.522642 35.7555 \n\" style=\"fill:none;stroke:#000000;stroke-linecap:square;stroke-linejoin:miter;stroke-width:0.8;\"/>\n   </g>\n   <g id=\"patch_34\">\n    <path d=\"M 528.692453 98.925311 \nL 528.692453 35.7555 \n\" style=\"fill:none;stroke:#000000;stroke-linecap:square;stroke-linejoin:miter;stroke-width:0.8;\"/>\n   </g>\n   <g id=\"patch_35\">\n    <path d=\"M 465.522642 98.925311 \nL 528.692453 98.925311 \n\" style=\"fill:none;stroke:#000000;stroke-linecap:square;stroke-linejoin:miter;stroke-width:0.8;\"/>\n   </g>\n   <g id=\"patch_36\">\n    <path d=\"M 465.522642 35.7555 \nL 528.692453 35.7555 \n\" style=\"fill:none;stroke:#000000;stroke-linecap:square;stroke-linejoin:miter;stroke-width:0.8;\"/>\n   </g>\n   <g id=\"text_7\">\n    <!-- bag -->\n    <defs>\n     <path d=\"M 45.40625 27.984375 \nQ 45.40625 37.75 41.375 43.109375 \nQ 37.359375 48.484375 30.078125 48.484375 \nQ 22.859375 48.484375 18.828125 43.109375 \nQ 14.796875 37.75 14.796875 27.984375 \nQ 14.796875 18.265625 18.828125 12.890625 \nQ 22.859375 7.515625 30.078125 7.515625 \nQ 37.359375 7.515625 41.375 12.890625 \nQ 45.40625 18.265625 45.40625 27.984375 \nz\nM 54.390625 6.78125 \nQ 54.390625 -7.171875 48.1875 -13.984375 \nQ 42 -20.796875 29.203125 -20.796875 \nQ 24.46875 -20.796875 20.265625 -20.09375 \nQ 16.0625 -19.390625 12.109375 -17.921875 \nL 12.109375 -9.1875 \nQ 16.0625 -11.328125 19.921875 -12.34375 \nQ 23.78125 -13.375 27.78125 -13.375 \nQ 36.625 -13.375 41.015625 -8.765625 \nQ 45.40625 -4.15625 45.40625 5.171875 \nL 45.40625 9.625 \nQ 42.625 4.78125 38.28125 2.390625 \nQ 33.9375 0 27.875 0 \nQ 17.828125 0 11.671875 7.65625 \nQ 5.515625 15.328125 5.515625 27.984375 \nQ 5.515625 40.671875 11.671875 48.328125 \nQ 17.828125 56 27.875 56 \nQ 33.9375 56 38.28125 53.609375 \nQ 42.625 51.21875 45.40625 46.390625 \nL 45.40625 54.6875 \nL 54.390625 54.6875 \nz\n\" id=\"DejaVuSans-103\"/>\n    </defs>\n    <g transform=\"translate(485.812547 16.318125)scale(0.12 -0.12)\">\n     <use xlink:href=\"#DejaVuSans-98\"/>\n     <use x=\"63.476562\" xlink:href=\"#DejaVuSans-97\"/>\n     <use x=\"124.755859\" xlink:href=\"#DejaVuSans-103\"/>\n    </g>\n    <!-- bag -->\n    <g transform=\"translate(485.812547 29.7555)scale(0.12 -0.12)\">\n     <use xlink:href=\"#DejaVuSans-98\"/>\n     <use x=\"63.476562\" xlink:href=\"#DejaVuSans-97\"/>\n     <use x=\"124.755859\" xlink:href=\"#DejaVuSans-103\"/>\n    </g>\n   </g>\n  </g>\n  <g id=\"axes_8\">\n   <g id=\"patch_37\">\n    <path d=\"M 541.326415 98.925311 \nL 604.496226 98.925311 \nL 604.496226 35.7555 \nL 541.326415 35.7555 \nz\n\" style=\"fill:#ffffff;\"/>\n   </g>\n   <g clip-path=\"url(#pdc79308a81)\">\n    <image height=\"64\" id=\"imagea1b751c79f\" transform=\"scale(1 -1)translate(0 -64)\" width=\"64\" x=\"541.326415\" xlink:href=\"data:image/png;base64,\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\" y=\"-34.925311\"/>\n   </g>\n   <g id=\"patch_38\">\n    <path d=\"M 541.326415 98.925311 \nL 541.326415 35.7555 \n\" style=\"fill:none;stroke:#000000;stroke-linecap:square;stroke-linejoin:miter;stroke-width:0.8;\"/>\n   </g>\n   <g id=\"patch_39\">\n    <path d=\"M 604.496226 98.925311 \nL 604.496226 35.7555 \n\" style=\"fill:none;stroke:#000000;stroke-linecap:square;stroke-linejoin:miter;stroke-width:0.8;\"/>\n   </g>\n   <g id=\"patch_40\">\n    <path d=\"M 541.326415 98.925311 \nL 604.496226 98.925311 \n\" style=\"fill:none;stroke:#000000;stroke-linecap:square;stroke-linejoin:miter;stroke-width:0.8;\"/>\n   </g>\n   <g id=\"patch_41\">\n    <path d=\"M 541.326415 35.7555 \nL 604.496226 35.7555 \n\" style=\"fill:none;stroke:#000000;stroke-linecap:square;stroke-linejoin:miter;stroke-width:0.8;\"/>\n   </g>\n   <g id=\"text_8\">\n    <!-- pullover -->\n    <defs>\n     <path d=\"M 18.109375 8.203125 \nL 18.109375 -20.796875 \nL 9.078125 -20.796875 \nL 9.078125 54.6875 \nL 18.109375 54.6875 \nL 18.109375 46.390625 \nQ 20.953125 51.265625 25.265625 53.625 \nQ 29.59375 56 35.59375 56 \nQ 45.5625 56 51.78125 48.09375 \nQ 58.015625 40.1875 58.015625 27.296875 \nQ 58.015625 14.40625 51.78125 6.484375 \nQ 45.5625 -1.421875 35.59375 -1.421875 \nQ 29.59375 -1.421875 25.265625 0.953125 \nQ 20.953125 3.328125 18.109375 8.203125 \nz\nM 48.6875 27.296875 \nQ 48.6875 37.203125 44.609375 42.84375 \nQ 40.53125 48.484375 33.40625 48.484375 \nQ 26.265625 48.484375 22.1875 42.84375 \nQ 18.109375 37.203125 18.109375 27.296875 \nQ 18.109375 17.390625 22.1875 11.75 \nQ 26.265625 6.109375 33.40625 6.109375 \nQ 40.53125 6.109375 44.609375 11.75 \nQ 48.6875 17.390625 48.6875 27.296875 \nz\n\" id=\"DejaVuSans-112\"/>\n     <path d=\"M 2.984375 54.6875 \nL 12.5 54.6875 \nL 29.59375 8.796875 \nL 46.6875 54.6875 \nL 56.203125 54.6875 \nL 35.6875 0 \nL 23.484375 0 \nz\n\" id=\"DejaVuSans-118\"/>\n    </defs>\n    <g transform=\"translate(548.585071 16.318125)scale(0.12 -0.12)\">\n     <use xlink:href=\"#DejaVuSans-112\"/>\n     <use x=\"63.476562\" xlink:href=\"#DejaVuSans-117\"/>\n     <use x=\"126.855469\" xlink:href=\"#DejaVuSans-108\"/>\n     <use x=\"154.638672\" xlink:href=\"#DejaVuSans-108\"/>\n     <use x=\"182.421875\" xlink:href=\"#DejaVuSans-111\"/>\n     <use x=\"243.603516\" xlink:href=\"#DejaVuSans-118\"/>\n     <use x=\"302.783203\" xlink:href=\"#DejaVuSans-101\"/>\n     <use x=\"364.306641\" xlink:href=\"#DejaVuSans-114\"/>\n    </g>\n    <!-- pullover -->\n    <g transform=\"translate(548.585071 29.7555)scale(0.12 -0.12)\">\n     <use xlink:href=\"#DejaVuSans-112\"/>\n     <use x=\"63.476562\" xlink:href=\"#DejaVuSans-117\"/>\n     <use x=\"126.855469\" xlink:href=\"#DejaVuSans-108\"/>\n     <use x=\"154.638672\" xlink:href=\"#DejaVuSans-108\"/>\n     <use x=\"182.421875\" xlink:href=\"#DejaVuSans-111\"/>\n     <use x=\"243.603516\" xlink:href=\"#DejaVuSans-118\"/>\n     <use x=\"302.783203\" xlink:href=\"#DejaVuSans-101\"/>\n     <use x=\"364.306641\" xlink:href=\"#DejaVuSans-114\"/>\n    </g>\n   </g>\n  </g>\n  <g id=\"axes_9\">\n   <g id=\"patch_42\">\n    <path d=\"M 617.130189 98.925311 \nL 680.3 98.925311 \nL 680.3 35.7555 \nL 617.130189 35.7555 \nz\n\" style=\"fill:#ffffff;\"/>\n   </g>\n   <g clip-path=\"url(#pd5d239b3ac)\">\n    <image height=\"64\" id=\"imagec12165e5ba\" transform=\"scale(1 -1)translate(0 -64)\" width=\"64\" x=\"617.130189\" xlink:href=\"data:image/png;base64,\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\" y=\"-34.925311\"/>\n   </g>\n   <g id=\"patch_43\">\n    <path d=\"M 617.130189 98.925311 \nL 617.130189 35.7555 \n\" style=\"fill:none;stroke:#000000;stroke-linecap:square;stroke-linejoin:miter;stroke-width:0.8;\"/>\n   </g>\n   <g id=\"patch_44\">\n    <path d=\"M 680.3 98.925311 \nL 680.3 35.7555 \n\" style=\"fill:none;stroke:#000000;stroke-linecap:square;stroke-linejoin:miter;stroke-width:0.8;\"/>\n   </g>\n   <g id=\"patch_45\">\n    <path d=\"M 617.130189 98.925311 \nL 680.3 98.925311 \n\" style=\"fill:none;stroke:#000000;stroke-linecap:square;stroke-linejoin:miter;stroke-width:0.8;\"/>\n   </g>\n   <g id=\"patch_46\">\n    <path d=\"M 617.130189 35.7555 \nL 680.3 35.7555 \n\" style=\"fill:none;stroke:#000000;stroke-linecap:square;stroke-linejoin:miter;stroke-width:0.8;\"/>\n   </g>\n   <g id=\"text_9\">\n    <!-- t-shirt -->\n    <defs>\n     <path d=\"M 4.890625 31.390625 \nL 31.203125 31.390625 \nL 31.203125 23.390625 \nL 4.890625 23.390625 \nz\n\" id=\"DejaVuSans-45\"/>\n    </defs>\n    <g transform=\"translate(630.784469 16.318125)scale(0.12 -0.12)\">\n     <use xlink:href=\"#DejaVuSans-116\"/>\n     <use x=\"39.208984\" xlink:href=\"#DejaVuSans-45\"/>\n     <use x=\"75.292969\" xlink:href=\"#DejaVuSans-115\"/>\n     <use x=\"127.392578\" xlink:href=\"#DejaVuSans-104\"/>\n     <use x=\"190.771484\" xlink:href=\"#DejaVuSans-105\"/>\n     <use x=\"218.554688\" xlink:href=\"#DejaVuSans-114\"/>\n     <use x=\"259.667969\" xlink:href=\"#DejaVuSans-116\"/>\n    </g>\n    <!-- t-shirt -->\n    <g transform=\"translate(630.784469 29.7555)scale(0.12 -0.12)\">\n     <use xlink:href=\"#DejaVuSans-116\"/>\n     <use x=\"39.208984\" xlink:href=\"#DejaVuSans-45\"/>\n     <use x=\"75.292969\" xlink:href=\"#DejaVuSans-115\"/>\n     <use x=\"127.392578\" xlink:href=\"#DejaVuSans-104\"/>\n     <use x=\"190.771484\" xlink:href=\"#DejaVuSans-105\"/>\n     <use x=\"218.554688\" xlink:href=\"#DejaVuSans-114\"/>\n     <use x=\"259.667969\" xlink:href=\"#DejaVuSans-116\"/>\n    </g>\n   </g>\n  </g>\n </g>\n <defs>\n  <clipPath id=\"pb5e0dba024\">\n   <rect height=\"63.169811\" width=\"63.169811\" x=\"10.7\" y=\"35.7555\"/>\n  </clipPath>\n  <clipPath id=\"p9a1fd19b6d\">\n   <rect height=\"63.169811\" width=\"63.169811\" x=\"86.503774\" y=\"35.7555\"/>\n  </clipPath>\n  <clipPath id=\"pdea36cf525\">\n   <rect height=\"63.169811\" width=\"63.169811\" x=\"162.307547\" y=\"35.7555\"/>\n  </clipPath>\n  <clipPath id=\"p4803d9df7a\">\n   <rect height=\"63.169811\" width=\"63.169811\" x=\"238.111321\" y=\"35.7555\"/>\n  </clipPath>\n  <clipPath id=\"p964d52f388\">\n   <rect height=\"63.169811\" width=\"63.169811\" x=\"313.915094\" y=\"35.7555\"/>\n  </clipPath>\n  <clipPath id=\"p4d1e299b3f\">\n   <rect height=\"63.169811\" width=\"63.169811\" x=\"389.718868\" y=\"35.7555\"/>\n  </clipPath>\n  <clipPath id=\"p6a2c979c83\">\n   <rect height=\"63.169811\" width=\"63.169811\" x=\"465.522642\" y=\"35.7555\"/>\n  </clipPath>\n  <clipPath id=\"pdc79308a81\">\n   <rect height=\"63.169811\" width=\"63.169811\" x=\"541.326415\" y=\"35.7555\"/>\n  </clipPath>\n  <clipPath id=\"pd5d239b3ac\">\n   <rect height=\"63.169811\" width=\"63.169811\" x=\"617.130189\" y=\"35.7555\"/>\n  </clipPath>\n </defs>\n</svg>\n"
          },
          "metadata": {
            "tags": [],
            "needs_background": "light"
          }
        }
      ]
    },
    {
      "cell_type": "code",
      "metadata": {
        "id": "3c71Vu55bLOV"
      },
      "source": [
        ""
      ],
      "execution_count": null,
      "outputs": []
    }
  ]
}