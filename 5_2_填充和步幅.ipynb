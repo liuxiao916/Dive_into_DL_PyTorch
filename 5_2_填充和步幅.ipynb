{
  "nbformat": 4,
  "nbformat_minor": 0,
  "metadata": {
    "colab": {
      "name": "5.2 填充和步幅.ipynb",
      "provenance": [],
      "collapsed_sections": [],
      "authorship_tag": "ABX9TyNkIazGy9XnBg2WuTN4Kq0O",
      "include_colab_link": true
    },
    "kernelspec": {
      "name": "python3",
      "display_name": "Python 3"
    },
    "language_info": {
      "name": "python"
    }
  },
  "cells": [
    {
      "cell_type": "markdown",
      "metadata": {
        "id": "view-in-github",
        "colab_type": "text"
      },
      "source": [
        "<a href=\"https://colab.research.google.com/github/liuxiao916/Dive_into_DL_PyTorch/blob/main/5_2_%E5%A1%AB%E5%85%85%E5%92%8C%E6%AD%A5%E5%B9%85.ipynb\" target=\"_parent\"><img src=\"https://colab.research.google.com/assets/colab-badge.svg\" alt=\"Open In Colab\"/></a>"
      ]
    },
    {
      "cell_type": "markdown",
      "metadata": {
        "id": "FfUBiSbPSFix"
      },
      "source": [
        "###5.2.1 填充"
      ]
    },
    {
      "cell_type": "code",
      "metadata": {
        "id": "Ggd62rIQSg49"
      },
      "source": [
        "import torch\n",
        "from torch import nn"
      ],
      "execution_count": 4,
      "outputs": []
    },
    {
      "cell_type": "code",
      "metadata": {
        "colab": {
          "base_uri": "https://localhost:8080/"
        },
        "id": "hs_1je91SkMP",
        "outputId": "8f7e7ace-170a-4a72-f533-c029894e5199"
      },
      "source": [
        "def comp_conv2d(conv2d, X):\n",
        "    X = X.view((1,1)+X.shape)\n",
        "    Y = conv2d(X)\n",
        "    return Y.view(Y.shape[2:])\n",
        "\n",
        "conv2d = nn.Conv2d(1, 1 ,3,padding=1)\n",
        "X = torch.rand(size = (8,8))\n",
        "comp_conv2d(conv2d, X).shape"
      ],
      "execution_count": 12,
      "outputs": [
        {
          "output_type": "execute_result",
          "data": {
            "text/plain": [
              "torch.Size([8, 8])"
            ]
          },
          "metadata": {
            "tags": []
          },
          "execution_count": 12
        }
      ]
    },
    {
      "cell_type": "code",
      "metadata": {
        "colab": {
          "base_uri": "https://localhost:8080/"
        },
        "id": "JDrGvuXyVMBQ",
        "outputId": "0872a082-9958-4a32-d333-bbad68b68f0f"
      },
      "source": [
        "conv2d = nn.Conv2d(1, 1, (5,3), padding = (2,1))\n",
        "comp_conv2d(conv2d, X).shape"
      ],
      "execution_count": 13,
      "outputs": [
        {
          "output_type": "execute_result",
          "data": {
            "text/plain": [
              "torch.Size([8, 8])"
            ]
          },
          "metadata": {
            "tags": []
          },
          "execution_count": 13
        }
      ]
    },
    {
      "cell_type": "markdown",
      "metadata": {
        "id": "hqbgHhDIWikM"
      },
      "source": [
        "### 5.2.2 步幅"
      ]
    },
    {
      "cell_type": "code",
      "metadata": {
        "colab": {
          "base_uri": "https://localhost:8080/"
        },
        "id": "8CnoHoYmWhg_",
        "outputId": "d54fea5d-3480-47b6-f34d-d5bba73bedd1"
      },
      "source": [
        "conv2d = nn.Conv2d(1,1,3,2,1)\n",
        "comp_conv2d(conv2d,X).shape"
      ],
      "execution_count": 14,
      "outputs": [
        {
          "output_type": "execute_result",
          "data": {
            "text/plain": [
              "torch.Size([4, 4])"
            ]
          },
          "metadata": {
            "tags": []
          },
          "execution_count": 14
        }
      ]
    },
    {
      "cell_type": "code",
      "metadata": {
        "colab": {
          "base_uri": "https://localhost:8080/"
        },
        "id": "8fGzFcARW2b2",
        "outputId": "43f249a6-9810-4013-8f71-82e3091ef5e4"
      },
      "source": [
        "conv2d = nn.Conv2d(1,1, kernel_size=(3, 5), padding=(0, 1), stride=(3, 4))\n",
        "comp_conv2d(conv2d,X).shape"
      ],
      "execution_count": 15,
      "outputs": [
        {
          "output_type": "execute_result",
          "data": {
            "text/plain": [
              "torch.Size([2, 2])"
            ]
          },
          "metadata": {
            "tags": []
          },
          "execution_count": 15
        }
      ]
    }
  ]
}