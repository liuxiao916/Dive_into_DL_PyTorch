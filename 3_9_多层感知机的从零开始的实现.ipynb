{
  "nbformat": 4,
  "nbformat_minor": 0,
  "metadata": {
    "colab": {
      "name": "3.9 多层感知机的从零开始的实现",
      "provenance": [],
      "authorship_tag": "ABX9TyOkhyNvKC4RjB8rzKaectP0",
      "include_colab_link": true
    },
    "kernelspec": {
      "name": "python3",
      "display_name": "Python 3"
    },
    "language_info": {
      "name": "python"
    }
  },
  "cells": [
    {
      "cell_type": "markdown",
      "metadata": {
        "id": "view-in-github",
        "colab_type": "text"
      },
      "source": [
        "<a href=\"https://colab.research.google.com/github/liuxiao916/Dive_into_DL_PyTorch/blob/main/3_9_%E5%A4%9A%E5%B1%82%E6%84%9F%E7%9F%A5%E6%9C%BA%E7%9A%84%E4%BB%8E%E9%9B%B6%E5%BC%80%E5%A7%8B%E7%9A%84%E5%AE%9E%E7%8E%B0.ipynb\" target=\"_parent\"><img src=\"https://colab.research.google.com/assets/colab-badge.svg\" alt=\"Open In Colab\"/></a>"
      ]
    },
    {
      "cell_type": "markdown",
      "metadata": {
        "id": "TpmipqCeTSDG"
      },
      "source": [
        "## 3.9 多层感知机的从零开始的实现"
      ]
    },
    {
      "cell_type": "code",
      "metadata": {
        "id": "AckdlNWKTA7b"
      },
      "source": [
        "%matplotlib inline\n",
        "import torch\n",
        "import torchvision\n",
        "import numpy as np"
      ],
      "execution_count": 1,
      "outputs": []
    },
    {
      "cell_type": "markdown",
      "metadata": {
        "id": "Vxn5mu3Cn2bx"
      },
      "source": [
        "### 3.9.1 读取数据集"
      ]
    },
    {
      "cell_type": "code",
      "metadata": {
        "colab": {
          "base_uri": "https://localhost:8080/"
        },
        "id": "PYNEt8uKn5Kj",
        "outputId": "18caf5e4-64c8-4f2b-9b34-7b6292207d8f"
      },
      "source": [
        "Batch_size =256\n",
        "fashionmnist_train = torchvision.datasets.FashionMNIST(root = './data/fashionMNIST', train = True, transform=torchvision.transforms.ToTensor(),download=True)\n",
        "fashionmnist_train_dataloader = torch.utils.data.DataLoader(dataset= fashionmnist_train,batch_size = Batch_size, shuffle = True)\n",
        "fashionmnist_test = torchvision.datasets.FashionMNIST(root = './data/fashionMNIST', train = False, transform=torchvision.transforms.ToTensor(),download=True)\n",
        "fashionmnist_test_dataloader = torch.utils.data.DataLoader(dataset= fashionmnist_test,batch_size = Batch_size, shuffle = True)"
      ],
      "execution_count": 2,
      "outputs": [
        {
          "output_type": "stream",
          "text": [
            "/usr/local/lib/python3.7/dist-packages/torchvision/datasets/mnist.py:498: UserWarning: The given NumPy array is not writeable, and PyTorch does not support non-writeable tensors. This means you can write to the underlying (supposedly non-writeable) NumPy array using the tensor. You may want to copy the array to protect its data or make it writeable before converting it to a tensor. This type of warning will be suppressed for the rest of this program. (Triggered internally at  /pytorch/torch/csrc/utils/tensor_numpy.cpp:180.)\n",
            "  return torch.from_numpy(parsed.astype(m[2], copy=False)).view(*s)\n"
          ],
          "name": "stderr"
        }
      ]
    },
    {
      "cell_type": "markdown",
      "metadata": {
        "id": "cjL-6leCoBRW"
      },
      "source": [
        "### 3.9.2 定义模型参数"
      ]
    },
    {
      "cell_type": "code",
      "metadata": {
        "id": "-fX-K0avoAYx"
      },
      "source": [
        "num_inputs, num_outputs, num_hiddens = 784, 10, 256\n",
        "\n",
        "W1 = torch.tensor(np.random.normal(scale = 0.01, size = (num_inputs, num_hiddens)), dtype=torch.float, requires_grad=True)\n",
        "b1 = torch.zeros(num_hiddens, dtype=torch.float, requires_grad=True)\n",
        "W2 = torch.tensor(np.random.normal(scale = 0.01, size = (num_hiddens, num_outputs)), dtype=torch.float, requires_grad=True)\n",
        "b2 = torch.zeros(num_outputs, dtype=torch.float, requires_grad=True)\n",
        "\n",
        "params = [W1, b1, W2, b2]"
      ],
      "execution_count": 3,
      "outputs": []
    },
    {
      "cell_type": "markdown",
      "metadata": {
        "id": "yEOAwKrqo6gW"
      },
      "source": [
        "### 3.9.3 定义激活函数"
      ]
    },
    {
      "cell_type": "code",
      "metadata": {
        "id": "9MPRUAkDoV1s"
      },
      "source": [
        "def relu(X):\n",
        "    return torch.maximum(X, torch.tensor(0.0))"
      ],
      "execution_count": 4,
      "outputs": []
    },
    {
      "cell_type": "markdown",
      "metadata": {
        "id": "NPph2c6QpoFM"
      },
      "source": [
        "###  3.9.4 定义模型"
      ]
    },
    {
      "cell_type": "code",
      "metadata": {
        "id": "QV7OEN1soywO"
      },
      "source": [
        "def net(X):\n",
        "    X = X.view((-1,num_inputs))\n",
        "    H = relu(torch.mm(X,W1)+b1)\n",
        "    return torch.mm(H,W2)+b2"
      ],
      "execution_count": 5,
      "outputs": []
    },
    {
      "cell_type": "markdown",
      "metadata": {
        "id": "4ddntkAVqhfu"
      },
      "source": [
        "### 3.9.5 定义损失函数"
      ]
    },
    {
      "cell_type": "code",
      "metadata": {
        "id": "45gYLfRBqE1Z"
      },
      "source": [
        "loss = torch.nn.CrossEntropyLoss()"
      ],
      "execution_count": 6,
      "outputs": []
    },
    {
      "cell_type": "markdown",
      "metadata": {
        "id": "3W6GJa-Lry8W"
      },
      "source": [
        "### 3.9.6 训练模型"
      ]
    },
    {
      "cell_type": "code",
      "metadata": {
        "id": "cwt8m1f9swNV"
      },
      "source": [
        "def sgd(params, lr, batch_size):\n",
        "    for param in params:\n",
        "        param.data = param.data - lr*param.grad / batch_size"
      ],
      "execution_count": 7,
      "outputs": []
    },
    {
      "cell_type": "code",
      "metadata": {
        "id": "Pmj45Aojs3jA"
      },
      "source": [
        "def evaluate_accuracy(data_iter, net):\n",
        "    acc_sum, n = 0.0, 0 \n",
        "    for X,y in data_iter:\n",
        "        acc_sum += (net(X).argmax(dim=1) == y).float().sum().item()\n",
        "        n += y.shape[0]\n",
        "    return acc_sum/n"
      ],
      "execution_count": 8,
      "outputs": []
    },
    {
      "cell_type": "code",
      "metadata": {
        "colab": {
          "base_uri": "https://localhost:8080/"
        },
        "id": "iOI16eJarx12",
        "outputId": "f42dd302-f55a-44a2-f582-30ba4625a683"
      },
      "source": [
        "num_epoch = 5\n",
        "lr = 50\n",
        "\n",
        "def train_ch3(net, train_iter,test_iter, loss, num_epochs, batch_size, params = None, lr = None, optimizer=None):\n",
        "    for epoch in range(num_epochs):\n",
        "        train_l_sum, train_acc_sum, n =0.0, 0.0, 0\n",
        "        for X,y in train_iter:\n",
        "            y_hat = net(X)\n",
        "            l = loss(y_hat, y).sum()\n",
        "            l.backward()\n",
        "            sgd(params, lr, batch_size)\n",
        "            \n",
        "            for param in params:\n",
        "                param.grad.data.zero_()\n",
        "\n",
        "            train_l_sum += l.item()\n",
        "            train_acc_sum += (y_hat.argmax(dim=1) == y).sum().item()\n",
        "            n += y.shape[0]\n",
        "        test_acc = evaluate_accuracy(test_iter, net)\n",
        "        print('epoch %d, loss %.4f, train acc %.3f, test acc %.3f' % (epoch + 1, train_l_sum / n, train_acc_sum / n, test_acc))\n",
        "\n",
        "train_ch3(net, fashionmnist_train_dataloader,fashionmnist_test_dataloader, loss, num_epoch, Batch_size, params, lr )\n",
        "\n",
        "        "
      ],
      "execution_count": 9,
      "outputs": [
        {
          "output_type": "stream",
          "text": [
            "epoch 1, loss 0.0034, train acc 0.691, test acc 0.727\n",
            "epoch 2, loss 0.0021, train acc 0.814, test acc 0.825\n",
            "epoch 3, loss 0.0018, train acc 0.836, test acc 0.826\n",
            "epoch 4, loss 0.0017, train acc 0.847, test acc 0.829\n",
            "epoch 5, loss 0.0016, train acc 0.857, test acc 0.849\n"
          ],
          "name": "stdout"
        }
      ]
    }
  ]
}