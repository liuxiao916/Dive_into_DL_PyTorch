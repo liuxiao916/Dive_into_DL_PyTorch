{
  "nbformat": 4,
  "nbformat_minor": 0,
  "metadata": {
    "colab": {
      "name": "3.3 线性回归的简洁实现.ipynb",
      "provenance": [],
      "authorship_tag": "ABX9TyNmvKAqecl3OPf8nPvTh5Me",
      "include_colab_link": true
    },
    "kernelspec": {
      "name": "python3",
      "display_name": "Python 3"
    },
    "language_info": {
      "name": "python"
    }
  },
  "cells": [
    {
      "cell_type": "markdown",
      "metadata": {
        "id": "view-in-github",
        "colab_type": "text"
      },
      "source": [
        "<a href=\"https://colab.research.google.com/github/liuxiao916/Dive_into_DL_PyTorch/blob/main/3_3_%E7%BA%BF%E6%80%A7%E5%9B%9E%E5%BD%92%E7%9A%84%E7%AE%80%E6%B4%81%E5%AE%9E%E7%8E%B0.ipynb\" target=\"_parent\"><img src=\"https://colab.research.google.com/assets/colab-badge.svg\" alt=\"Open In Colab\"/></a>"
      ]
    },
    {
      "cell_type": "markdown",
      "metadata": {
        "id": "QcVneklCXSox"
      },
      "source": [
        "# 3.3 线性回归的简洁实现"
      ]
    },
    {
      "cell_type": "code",
      "metadata": {
        "id": "9ujYtHmqXpEx"
      },
      "source": [
        "%matplotlib inline\n",
        "from IPython import display\n",
        "from matplotlib import pyplot as plt\n",
        "import numpy as np\n",
        "import random\n",
        "import torch"
      ],
      "execution_count": 1,
      "outputs": []
    },
    {
      "cell_type": "markdown",
      "metadata": {
        "id": "pI81RcnUXWsv"
      },
      "source": [
        "## 3.3.1 生成数据集"
      ]
    },
    {
      "cell_type": "code",
      "metadata": {
        "id": "kksff_TXWEJ1"
      },
      "source": [
        "num_inputs = 2\n",
        "num_examples = 1000\n",
        "true_w = [2,-3.4]\n",
        "true_b = 4.2\n",
        "features = torch.tensor(np.random.normal(scale = 1,size=(num_examples,num_inputs)), dtype=torch.float)\n",
        "labels = true_w[0]*features[:,0] + true_w[1]*features[:,1]+true_b\n",
        "labels += torch.tensor(np.random.normal(scale = 0.01,size = labels.shape), dtype=torch.float)"
      ],
      "execution_count": 2,
      "outputs": []
    },
    {
      "cell_type": "markdown",
      "metadata": {
        "id": "e6aMyCQGXtfC"
      },
      "source": [
        "## 3.3.2 读取数据集"
      ]
    },
    {
      "cell_type": "code",
      "metadata": {
        "id": "K9dAKvsbXj_l"
      },
      "source": [
        "import torch.utils.data as Data\n",
        "\n",
        "batch_size = 10\n",
        "\n",
        "dataset = Data.TensorDataset(features, labels)\n",
        "\n",
        "data_iter = Data.DataLoader(\n",
        "    dataset=dataset,\n",
        "    batch_size=batch_size,\n",
        "    shuffle=True\n",
        "    )"
      ],
      "execution_count": 3,
      "outputs": []
    },
    {
      "cell_type": "code",
      "metadata": {
        "colab": {
          "base_uri": "https://localhost:8080/"
        },
        "id": "1_CSsW_x1G1o",
        "outputId": "41729317-b63f-42a1-e6bb-97086cc258ee"
      },
      "source": [
        "for X,y in data_iter:\n",
        "    print(X,y)\n",
        "    break"
      ],
      "execution_count": 4,
      "outputs": [
        {
          "output_type": "stream",
          "text": [
            "tensor([[-1.4768,  1.2587],\n",
            "        [ 0.9848, -1.5931],\n",
            "        [-2.0431, -0.4522],\n",
            "        [ 1.6726,  0.1236],\n",
            "        [ 0.7577,  0.5423],\n",
            "        [-0.4996, -1.9556],\n",
            "        [ 0.9815, -0.6122],\n",
            "        [ 0.5564,  0.3572],\n",
            "        [-0.5396, -1.8347],\n",
            "        [ 0.7831,  0.7508]]) tensor([-3.0507, 11.5744,  1.6576,  7.1348,  3.8566,  9.8510,  8.2269,  4.1029,\n",
            "         9.3505,  3.2158])\n"
          ],
          "name": "stdout"
        }
      ]
    },
    {
      "cell_type": "markdown",
      "metadata": {
        "id": "1G5QAmzr6v7f"
      },
      "source": [
        "## 3.3.3 定义模型"
      ]
    },
    {
      "cell_type": "code",
      "metadata": {
        "colab": {
          "base_uri": "https://localhost:8080/"
        },
        "id": "4FJu7D945a69",
        "outputId": "b7f7a59e-30f8-46b7-d8df-f08448ec324d"
      },
      "source": [
        "from torch import nn\n",
        "\n",
        "net = nn.Sequential()\n",
        "net.add_module('linear', nn.Linear(num_inputs, 1))\n",
        "\n",
        "print(net)"
      ],
      "execution_count": 5,
      "outputs": [
        {
          "output_type": "stream",
          "text": [
            "Sequential(\n",
            "  (linear): Linear(in_features=2, out_features=1, bias=True)\n",
            ")\n"
          ],
          "name": "stdout"
        }
      ]
    },
    {
      "cell_type": "markdown",
      "metadata": {
        "id": "ylbUd0A48mpy"
      },
      "source": [
        "此处参考https://github.com/ShusenTang/Dive-into-DL-PyTorch/blob/master/docs/chapter03_DL-basics/3.3_linear-regression-pytorch.md"
      ]
    },
    {
      "cell_type": "code",
      "metadata": {
        "colab": {
          "base_uri": "https://localhost:8080/"
        },
        "id": "4DZLpgP08ch6",
        "outputId": "df60968d-fdec-444e-b587-b4a146854dde"
      },
      "source": [
        "class LinearNet(nn.Module):\n",
        "    def __init__(self, num_input):\n",
        "        super(LinearNet, self).__init__()\n",
        "        self.linear=nn.Linear(num_inputs, 1)\n",
        "    def forward(self, x):\n",
        "        y = self.linear(x)\n",
        "        return y\n",
        "\n",
        "Net = LinearNet(num_inputs)\n",
        "print(Net)"
      ],
      "execution_count": 6,
      "outputs": [
        {
          "output_type": "stream",
          "text": [
            "LinearNet(\n",
            "  (linear): Linear(in_features=2, out_features=1, bias=True)\n",
            ")\n"
          ],
          "name": "stdout"
        }
      ]
    },
    {
      "cell_type": "code",
      "metadata": {
        "colab": {
          "base_uri": "https://localhost:8080/"
        },
        "id": "W6OpDhZkLkSy",
        "outputId": "5d23f917-ad41-4748-be3a-0159ff11df45"
      },
      "source": [
        "for param in net.parameters():\n",
        "    print(param)\n",
        "\n",
        "print(net.state_dict())"
      ],
      "execution_count": 7,
      "outputs": [
        {
          "output_type": "stream",
          "text": [
            "Parameter containing:\n",
            "tensor([[ 0.1588, -0.3627]], requires_grad=True)\n",
            "Parameter containing:\n",
            "tensor([0.7008], requires_grad=True)\n",
            "OrderedDict([('linear.weight', tensor([[ 0.1588, -0.3627]])), ('linear.bias', tensor([0.7008]))])\n"
          ],
          "name": "stdout"
        }
      ]
    },
    {
      "cell_type": "markdown",
      "metadata": {
        "id": "bIEXBuBk8xcr"
      },
      "source": [
        "## 3.3.4 初始化模型参数"
      ]
    },
    {
      "cell_type": "code",
      "metadata": {
        "colab": {
          "base_uri": "https://localhost:8080/"
        },
        "id": "Hn4T3iR4-FjO",
        "outputId": "0f7f7cb4-d328-48bb-8d9f-75306d7c6b1d"
      },
      "source": [
        "#理论上pytorch已经默认初始化过了\n",
        "from torch.nn import init\n",
        "\n",
        "init.normal_(net[0].weight, mean=0, std=0.01)\n",
        "init.normal_(net[0].bias, mean=0, std=0.01) "
      ],
      "execution_count": 8,
      "outputs": [
        {
          "output_type": "execute_result",
          "data": {
            "text/plain": [
              "Parameter containing:\n",
              "tensor([-0.0003], requires_grad=True)"
            ]
          },
          "metadata": {
            "tags": []
          },
          "execution_count": 8
        }
      ]
    },
    {
      "cell_type": "markdown",
      "metadata": {
        "id": "l7KSiMnlOU5I"
      },
      "source": [
        "## 3.3.5 定义损失函数\n"
      ]
    },
    {
      "cell_type": "code",
      "metadata": {
        "id": "dEyHcvYWOT1h"
      },
      "source": [
        "criterion = nn.MSELoss()"
      ],
      "execution_count": 9,
      "outputs": []
    },
    {
      "cell_type": "markdown",
      "metadata": {
        "id": "TREJhIOiOtfM"
      },
      "source": [
        "## 3.3.6 定义优化算法\n"
      ]
    },
    {
      "cell_type": "code",
      "metadata": {
        "id": "zjB7ILxGNjJH"
      },
      "source": [
        "optimizer = torch.optim.SGD(net.parameters(), lr=0.03)"
      ],
      "execution_count": 10,
      "outputs": []
    },
    {
      "cell_type": "markdown",
      "metadata": {
        "id": "LraytHqwSWMB"
      },
      "source": [
        "## 3.3.7 训练模型\n"
      ]
    },
    {
      "cell_type": "code",
      "metadata": {
        "colab": {
          "base_uri": "https://localhost:8080/"
        },
        "id": "U-PKnrHmRn7j",
        "outputId": "de52aaa3-1134-4646-e600-80e33951d130"
      },
      "source": [
        "num_epoch = 3\n",
        "for i in range(1,num_epoch+1):\n",
        "    for X,y in data_iter:\n",
        "        output = net(X)\n",
        "        loss = criterion(output,y.view(-1,1))\n",
        "\n",
        "        optimizer.zero_grad()\n",
        "        loss.backward()\n",
        "        optimizer.step()\n",
        "\n",
        "    print('epoch %d, loss: %f' % (i, loss.item()))"
      ],
      "execution_count": 11,
      "outputs": [
        {
          "output_type": "stream",
          "text": [
            "epoch 1, loss: 0.000373\n",
            "epoch 2, loss: 0.000052\n",
            "epoch 3, loss: 0.000145\n"
          ],
          "name": "stdout"
        }
      ]
    },
    {
      "cell_type": "code",
      "metadata": {
        "colab": {
          "base_uri": "https://localhost:8080/"
        },
        "id": "EuKxi8pWS6iT",
        "outputId": "45043511-9f23-49a7-ba46-b6a6c6050563"
      },
      "source": [
        "dense = net[0]\n",
        "true_w, dense.weight.data"
      ],
      "execution_count": 12,
      "outputs": [
        {
          "output_type": "execute_result",
          "data": {
            "text/plain": [
              "([2, -3.4], tensor([[ 1.9996, -3.3997]]))"
            ]
          },
          "metadata": {
            "tags": []
          },
          "execution_count": 12
        }
      ]
    },
    {
      "cell_type": "code",
      "metadata": {
        "colab": {
          "base_uri": "https://localhost:8080/"
        },
        "id": "lJrZCzVBY34V",
        "outputId": "ea21f377-e48b-48b4-ed63-c07005c315f6"
      },
      "source": [
        "true_b, dense.bias.data"
      ],
      "execution_count": 13,
      "outputs": [
        {
          "output_type": "execute_result",
          "data": {
            "text/plain": [
              "(4.2, tensor([4.1999]))"
            ]
          },
          "metadata": {
            "tags": []
          },
          "execution_count": 13
        }
      ]
    },
    {
      "cell_type": "code",
      "metadata": {
        "id": "Ql-aHOZrY8Mn"
      },
      "source": [
        ""
      ],
      "execution_count": 13,
      "outputs": []
    }
  ]
}