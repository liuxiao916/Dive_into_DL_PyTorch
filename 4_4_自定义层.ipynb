{
  "nbformat": 4,
  "nbformat_minor": 0,
  "metadata": {
    "colab": {
      "name": "4.4 自定义层.ipynb",
      "provenance": [],
      "authorship_tag": "ABX9TyOhMD+XaF+asnLxliXiG9d8",
      "include_colab_link": true
    },
    "kernelspec": {
      "name": "python3",
      "display_name": "Python 3"
    },
    "language_info": {
      "name": "python"
    }
  },
  "cells": [
    {
      "cell_type": "markdown",
      "metadata": {
        "id": "view-in-github",
        "colab_type": "text"
      },
      "source": [
        "<a href=\"https://colab.research.google.com/github/liuxiao916/Dive_into_DL_PyTorch/blob/main/4_4_%E8%87%AA%E5%AE%9A%E4%B9%89%E5%B1%82.ipynb\" target=\"_parent\"><img src=\"https://colab.research.google.com/assets/colab-badge.svg\" alt=\"Open In Colab\"/></a>"
      ]
    },
    {
      "cell_type": "markdown",
      "metadata": {
        "id": "wkdAr7MwWcU5"
      },
      "source": [
        "## 4.4 自定义层"
      ]
    },
    {
      "cell_type": "markdown",
      "metadata": {
        "id": "4WpO9t1bq-uq"
      },
      "source": [
        "参考 https://github.com/ShusenTang/Dive-into-DL-PyTorch/blob/master/docs/chapter04_DL_computation/4.4_custom-layer.md"
      ]
    },
    {
      "cell_type": "code",
      "metadata": {
        "id": "4c9f67AMWShG"
      },
      "source": [
        "import torch\n",
        "from torch import nn"
      ],
      "execution_count": null,
      "outputs": []
    },
    {
      "cell_type": "markdown",
      "metadata": {
        "id": "hnIGVx8bWd0N"
      },
      "source": [
        "### 4.4.1 不含模型参数的自定义层"
      ]
    },
    {
      "cell_type": "code",
      "metadata": {
        "id": "VAOx9YcdXEWo"
      },
      "source": [
        "class CenteredLayer(nn.Module):\n",
        "    def __init__(self, **kwargs):\n",
        "        super(CenteredLayer, self).__init__(**kwargs)\n",
        "    def forward(self, x):\n",
        "        return x - x.mean()"
      ],
      "execution_count": null,
      "outputs": []
    },
    {
      "cell_type": "code",
      "metadata": {
        "colab": {
          "base_uri": "https://localhost:8080/"
        },
        "id": "FJrRaJeyXgMS",
        "outputId": "182130b1-8fa7-46ef-92f6-5d5f69c68dac"
      },
      "source": [
        "layer = CenteredLayer()\n",
        "layer(torch.tensor([1,2,3,4,5]).float())"
      ],
      "execution_count": null,
      "outputs": [
        {
          "output_type": "execute_result",
          "data": {
            "text/plain": [
              "tensor([-2., -1.,  0.,  1.,  2.])"
            ]
          },
          "metadata": {
            "tags": []
          },
          "execution_count": 5
        }
      ]
    },
    {
      "cell_type": "code",
      "metadata": {
        "id": "juVafkhYXsaJ"
      },
      "source": [
        "net = nn.Sequential()\n",
        "net.add_module('Linear',nn.Linear(8, 128))\n",
        "net.add_module('Centered',CenteredLayer())"
      ],
      "execution_count": null,
      "outputs": []
    },
    {
      "cell_type": "code",
      "metadata": {
        "colab": {
          "base_uri": "https://localhost:8080/"
        },
        "id": "zZQFjzRMZCS0",
        "outputId": "7d473422-de06-4515-f40f-7953bdd0dda8"
      },
      "source": [
        "y = net(torch.rand(4,8))\n",
        "y.mean().item()"
      ],
      "execution_count": null,
      "outputs": [
        {
          "output_type": "execute_result",
          "data": {
            "text/plain": [
              "9.313225746154785e-10"
            ]
          },
          "metadata": {
            "tags": []
          },
          "execution_count": 9
        }
      ]
    },
    {
      "cell_type": "markdown",
      "metadata": {
        "id": "2st1OznflLMC"
      },
      "source": [
        "### 4.4.2 含有参数的自定义层"
      ]
    },
    {
      "cell_type": "code",
      "metadata": {
        "colab": {
          "base_uri": "https://localhost:8080/"
        },
        "id": "KUxMk7PLc7PP",
        "outputId": "bbf3e154-1a51-4738-ab82-98a4049c704c"
      },
      "source": [
        "class MyListDense(nn.Module):\n",
        "    def __init__(self):\n",
        "        super(MyListDense, self).__init__()\n",
        "        self.params = nn.ParameterList([nn.Parameter(torch.randn(4, 4)) for i in range(3)])\n",
        "        self.params.append(nn.Parameter(torch.randn(4, 1)))\n",
        "\n",
        "    def forward(self, x):\n",
        "        for i in range(len(self.params)):\n",
        "            x = torch.mm(x, self.params[i])\n",
        "        return x\n",
        "net = MyListDense()\n",
        "print(net)\n"
      ],
      "execution_count": null,
      "outputs": [
        {
          "output_type": "stream",
          "text": [
            "MyListDense(\n",
            "  (params): ParameterList(\n",
            "      (0): Parameter containing: [torch.FloatTensor of size 4x4]\n",
            "      (1): Parameter containing: [torch.FloatTensor of size 4x4]\n",
            "      (2): Parameter containing: [torch.FloatTensor of size 4x4]\n",
            "      (3): Parameter containing: [torch.FloatTensor of size 4x1]\n",
            "  )\n",
            ")\n"
          ],
          "name": "stdout"
        }
      ]
    },
    {
      "cell_type": "code",
      "metadata": {
        "colab": {
          "base_uri": "https://localhost:8080/"
        },
        "id": "AlsJv1Zwpuid",
        "outputId": "0b5ef7c7-9872-4b1d-ac87-eb846f6fc0c6"
      },
      "source": [
        "class MyDictDense(nn.Module):\n",
        "    def __init__(self):\n",
        "        super(MyDictDense, self).__init__()\n",
        "        self.params = nn.ParameterDict({\n",
        "                'linear1': nn.Parameter(torch.randn(4, 4)),\n",
        "                'linear2': nn.Parameter(torch.randn(4, 1))\n",
        "        })\n",
        "        self.params.update({'linear3': nn.Parameter(torch.randn(4, 2))}) # 新增\n",
        "\n",
        "    def forward(self, x, choice='linear1'):\n",
        "        return torch.mm(x, self.params[choice])\n",
        "\n",
        "net = MyDictDense()\n",
        "print(net)\n"
      ],
      "execution_count": null,
      "outputs": [
        {
          "output_type": "stream",
          "text": [
            "MyDictDense(\n",
            "  (params): ParameterDict(\n",
            "      (linear1): Parameter containing: [torch.FloatTensor of size 4x4]\n",
            "      (linear2): Parameter containing: [torch.FloatTensor of size 4x1]\n",
            "      (linear3): Parameter containing: [torch.FloatTensor of size 4x2]\n",
            "  )\n",
            ")\n"
          ],
          "name": "stdout"
        }
      ]
    },
    {
      "cell_type": "code",
      "metadata": {
        "colab": {
          "base_uri": "https://localhost:8080/"
        },
        "id": "vxJ0GJGWqUkk",
        "outputId": "6ae59af5-547a-41e4-f145-27edd5d9d57a"
      },
      "source": [
        "x = torch.ones(1, 4)\n",
        "print(net(x, 'linear1'))\n",
        "print(net(x, 'linear2'))\n",
        "print(net(x, 'linear3'))"
      ],
      "execution_count": null,
      "outputs": [
        {
          "output_type": "stream",
          "text": [
            "tensor([[-2.1692,  1.2993,  1.0775,  2.5852]], grad_fn=<MmBackward>)\n",
            "tensor([[0.2021]], grad_fn=<MmBackward>)\n",
            "tensor([[-3.0340, -3.2333]], grad_fn=<MmBackward>)\n"
          ],
          "name": "stdout"
        }
      ]
    },
    {
      "cell_type": "code",
      "metadata": {
        "colab": {
          "base_uri": "https://localhost:8080/"
        },
        "id": "K0juJxUCqdlJ",
        "outputId": "87c0d621-3350-46bb-f261-13469800d09c"
      },
      "source": [
        "net = nn.Sequential(\n",
        "    MyDictDense(),\n",
        "    MyListDense(),\n",
        ")\n",
        "print(net)\n",
        "print(net(x))\n"
      ],
      "execution_count": null,
      "outputs": [
        {
          "output_type": "stream",
          "text": [
            "Sequential(\n",
            "  (0): MyDictDense(\n",
            "    (params): ParameterDict(\n",
            "        (linear1): Parameter containing: [torch.FloatTensor of size 4x4]\n",
            "        (linear2): Parameter containing: [torch.FloatTensor of size 4x1]\n",
            "        (linear3): Parameter containing: [torch.FloatTensor of size 4x2]\n",
            "    )\n",
            "  )\n",
            "  (1): MyListDense(\n",
            "    (params): ParameterList(\n",
            "        (0): Parameter containing: [torch.FloatTensor of size 4x4]\n",
            "        (1): Parameter containing: [torch.FloatTensor of size 4x4]\n",
            "        (2): Parameter containing: [torch.FloatTensor of size 4x4]\n",
            "        (3): Parameter containing: [torch.FloatTensor of size 4x1]\n",
            "    )\n",
            "  )\n",
            ")\n",
            "tensor([[-0.0598]], grad_fn=<MmBackward>)\n"
          ],
          "name": "stdout"
        }
      ]
    },
    {
      "cell_type": "code",
      "metadata": {
        "id": "4373yrQSqnXx"
      },
      "source": [
        ""
      ],
      "execution_count": null,
      "outputs": []
    }
  ]
}