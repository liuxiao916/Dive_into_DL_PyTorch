{
  "nbformat": 4,
  "nbformat_minor": 0,
  "metadata": {
    "colab": {
      "name": "3.7 softmax回归的简洁实现.ipynb",
      "provenance": [],
      "authorship_tag": "ABX9TyPoEDt4/Fphejz8SyDJfzMZ",
      "include_colab_link": true
    },
    "kernelspec": {
      "name": "python3",
      "display_name": "Python 3"
    },
    "language_info": {
      "name": "python"
    }
  },
  "cells": [
    {
      "cell_type": "markdown",
      "metadata": {
        "id": "view-in-github",
        "colab_type": "text"
      },
      "source": [
        "<a href=\"https://colab.research.google.com/github/liuxiao916/Dive_into_DL_PyTorch/blob/main/3_7_softmax%E5%9B%9E%E5%BD%92%E7%9A%84%E7%AE%80%E6%B4%81%E5%AE%9E%E7%8E%B0.ipynb\" target=\"_parent\"><img src=\"https://colab.research.google.com/assets/colab-badge.svg\" alt=\"Open In Colab\"/></a>"
      ]
    },
    {
      "cell_type": "code",
      "metadata": {
        "id": "I00Al4iPCLKY"
      },
      "source": [
        "%matplotlib inline\n",
        "import torch\n",
        "import torchvision"
      ],
      "execution_count": 1,
      "outputs": []
    },
    {
      "cell_type": "markdown",
      "metadata": {
        "id": "4qA5zq4gCY0d"
      },
      "source": [
        "### 3.7.1 读取数据集"
      ]
    },
    {
      "cell_type": "code",
      "metadata": {
        "colab": {
          "base_uri": "https://localhost:8080/"
        },
        "id": "O1-eABm6CXh3",
        "outputId": "b48e10b4-e6a2-4555-fdaf-140ea076a093"
      },
      "source": [
        "Batch_size =256\n",
        "fashionmnist_train = torchvision.datasets.FashionMNIST(root = './data/fashionMNIST', train = True, transform=torchvision.transforms.ToTensor(),download=True)\n",
        "fashionmnist_train_dataloader = torch.utils.data.DataLoader(dataset= fashionmnist_train,batch_size = Batch_size, shuffle = True)\n",
        "fashionmnist_test = torchvision.datasets.FashionMNIST(root = './data/fashionMNIST', train = False, transform=torchvision.transforms.ToTensor(),download=True)\n",
        "fashionmnist_test_dataloader = torch.utils.data.DataLoader(dataset= fashionmnist_test,batch_size = Batch_size, shuffle = True)"
      ],
      "execution_count": 2,
      "outputs": [
        {
          "output_type": "stream",
          "text": [
            "/usr/local/lib/python3.7/dist-packages/torchvision/datasets/mnist.py:498: UserWarning: The given NumPy array is not writeable, and PyTorch does not support non-writeable tensors. This means you can write to the underlying (supposedly non-writeable) NumPy array using the tensor. You may want to copy the array to protect its data or make it writeable before converting it to a tensor. This type of warning will be suppressed for the rest of this program. (Triggered internally at  /pytorch/torch/csrc/utils/tensor_numpy.cpp:180.)\n",
            "  return torch.from_numpy(parsed.astype(m[2], copy=False)).view(*s)\n"
          ],
          "name": "stderr"
        }
      ]
    },
    {
      "cell_type": "markdown",
      "metadata": {
        "id": "6rUCemRNCl-l"
      },
      "source": [
        "### 3.7.2 定义和初始化模型"
      ]
    },
    {
      "cell_type": "code",
      "metadata": {
        "id": "uRhj1XHjClZi"
      },
      "source": [
        "net = torch.nn.Sequential()\n",
        "num_input = fashionmnist_train[0][0].shape[1]*fashionmnist_train[0][0].shape[2]\n",
        "net.add_module('Linear',torch.nn.Linear(num_input, 10))"
      ],
      "execution_count": 3,
      "outputs": []
    },
    {
      "cell_type": "markdown",
      "metadata": {
        "id": "GoNoERHXDq7q"
      },
      "source": [
        "### 3.7.3 softmax和交叉熵损失函数"
      ]
    },
    {
      "cell_type": "code",
      "metadata": {
        "id": "ZI4APY4TCjnJ"
      },
      "source": [
        "loss = torch.nn.CrossEntropyLoss()"
      ],
      "execution_count": 4,
      "outputs": []
    },
    {
      "cell_type": "markdown",
      "metadata": {
        "id": "-hjA_b-bEMvo"
      },
      "source": [
        "### 3.7.4 定义优化算法"
      ]
    },
    {
      "cell_type": "code",
      "metadata": {
        "id": "Eb6YvV1eDSKZ"
      },
      "source": [
        "optimizer = torch.optim.SGD(net.parameters(), lr=0.1)"
      ],
      "execution_count": 5,
      "outputs": []
    },
    {
      "cell_type": "markdown",
      "metadata": {
        "id": "0nw2jn7hEZym"
      },
      "source": [
        "### 3.7.5 训练模型"
      ]
    },
    {
      "cell_type": "code",
      "metadata": {
        "id": "JRI6imheFW_A"
      },
      "source": [
        "def evaluate_accuracy(data_iter, net):\n",
        "    acc_sum, n = 0.0, 0 \n",
        "    for X,y in data_iter:\n",
        "        acc_sum += (net(X.reshape(-1,num_input)).argmax(dim=1) == y).float().sum().item()\n",
        "        n += y.shape[0]\n",
        "    return acc_sum/n"
      ],
      "execution_count": 6,
      "outputs": []
    },
    {
      "cell_type": "code",
      "metadata": {
        "colab": {
          "base_uri": "https://localhost:8080/"
        },
        "id": "XB2WU2m5EYkH",
        "outputId": "62d36cd7-b122-447d-bb0c-e054b9251ad2"
      },
      "source": [
        "num_epochs = 5\n",
        "\n",
        "for epoch in range(num_epochs):\n",
        "    train_l_sum, train_acc_sum, n =0.0, 0.0, 0\n",
        "    for X,y in fashionmnist_train_dataloader:\n",
        "        y_hat = net(X.reshape(-1,num_input))\n",
        "        l = loss(y_hat, y).sum()\n",
        "        optimizer.zero_grad()\n",
        "        l.backward()\n",
        "        optimizer.step()\n",
        "        train_l_sum += l.item()\n",
        "        train_acc_sum += (y_hat.argmax(dim=1) == y).sum().item()\n",
        "        n += y.shape[0]\n",
        "    test_acc = evaluate_accuracy(fashionmnist_test_dataloader, net)\n",
        "    print('epoch %d, loss %.4f, train acc %.3f, test acc %.3f' % (epoch + 1, train_l_sum / n, train_acc_sum / n, test_acc))\n",
        "\n",
        "\n",
        "    "
      ],
      "execution_count": 7,
      "outputs": [
        {
          "output_type": "stream",
          "text": [
            "epoch 1, loss 0.0031, train acc 0.747, test acc 0.793\n",
            "epoch 2, loss 0.0022, train acc 0.813, test acc 0.814\n",
            "epoch 3, loss 0.0021, train acc 0.826, test acc 0.815\n",
            "epoch 4, loss 0.0020, train acc 0.833, test acc 0.818\n",
            "epoch 5, loss 0.0019, train acc 0.837, test acc 0.824\n"
          ],
          "name": "stdout"
        }
      ]
    },
    {
      "cell_type": "code",
      "metadata": {
        "id": "7o_OBJAxFezF"
      },
      "source": [
        ""
      ],
      "execution_count": 7,
      "outputs": []
    }
  ]
}