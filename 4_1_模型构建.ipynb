{
  "nbformat": 4,
  "nbformat_minor": 0,
  "metadata": {
    "colab": {
      "name": "4.1 模型构建.ipynb",
      "provenance": [],
      "authorship_tag": "ABX9TyMdUEXDtmlVezKz3Ta8leEj",
      "include_colab_link": true
    },
    "kernelspec": {
      "name": "python3",
      "display_name": "Python 3"
    },
    "language_info": {
      "name": "python"
    }
  },
  "cells": [
    {
      "cell_type": "markdown",
      "metadata": {
        "id": "view-in-github",
        "colab_type": "text"
      },
      "source": [
        "<a href=\"https://colab.research.google.com/github/liuxiao916/Dive_into_DL_PyTorch/blob/main/4_1_%E6%A8%A1%E5%9E%8B%E6%9E%84%E5%BB%BA.ipynb\" target=\"_parent\"><img src=\"https://colab.research.google.com/assets/colab-badge.svg\" alt=\"Open In Colab\"/></a>"
      ]
    },
    {
      "cell_type": "markdown",
      "metadata": {
        "id": "n5UHycAEYKJJ"
      },
      "source": [
        "## 4.1 模型构建"
      ]
    },
    {
      "cell_type": "markdown",
      "metadata": {
        "id": "WgwMuxg9Yu6p"
      },
      "source": [
        "本节参考 https://github.com/ShusenTang/Dive-into-DL-PyTorch/blob/master/docs/chapter04_DL_computation/4.1_model-construction.md"
      ]
    },
    {
      "cell_type": "markdown",
      "metadata": {
        "id": "FWyg47g4YN_y"
      },
      "source": [
        "### 4.1.1 继承Modlue类来构造模型"
      ]
    },
    {
      "cell_type": "code",
      "metadata": {
        "id": "QOsMH6v3Xhpy"
      },
      "source": [
        "import torch\n",
        "import torch.nn as nn\n"
      ],
      "execution_count": 4,
      "outputs": []
    },
    {
      "cell_type": "code",
      "metadata": {
        "id": "rhccorWwY2J7"
      },
      "source": [
        "class MLP(nn.Module):\n",
        "    def __init__(self, **kwargs):\n",
        "        super(MLP, self).__init__(**kwargs)\n",
        "        self.hidden = nn.Linear(784,256)\n",
        "        self.act = nn.ReLU()\n",
        "        self.output = nn.Linear(256,19)\n",
        "\n",
        "    def forward(self, x):\n",
        "        a = self.act(self.hidden(x))\n",
        "        return self.output(a)"
      ],
      "execution_count": 2,
      "outputs": []
    },
    {
      "cell_type": "code",
      "metadata": {
        "colab": {
          "base_uri": "https://localhost:8080/"
        },
        "id": "3M3oxU1pZ5d1",
        "outputId": "854f1c0a-532e-4479-9e38-3df5399a23ae"
      },
      "source": [
        "X = torch.rand(2,784)\n",
        "net = MLP()\n",
        "print(net)\n",
        "net(X)"
      ],
      "execution_count": 6,
      "outputs": [
        {
          "output_type": "stream",
          "text": [
            "MLP(\n",
            "  (hidden): Linear(in_features=784, out_features=256, bias=True)\n",
            "  (act): ReLU()\n",
            "  (output): Linear(in_features=256, out_features=19, bias=True)\n",
            ")\n"
          ],
          "name": "stdout"
        },
        {
          "output_type": "execute_result",
          "data": {
            "text/plain": [
              "tensor([[-0.0551,  0.0100, -0.0518, -0.1623,  0.1930, -0.1366, -0.2694, -0.0795,\n",
              "          0.1514, -0.0013,  0.0897, -0.0796, -0.0916,  0.0454, -0.1193,  0.0046,\n",
              "          0.3908,  0.0832, -0.1977],\n",
              "        [-0.1689,  0.0082, -0.0315, -0.1680,  0.1383,  0.0399, -0.3500, -0.0960,\n",
              "          0.1791, -0.0713, -0.0400, -0.0597, -0.1473,  0.0493, -0.1545,  0.0805,\n",
              "          0.3988, -0.0021, -0.0636]], grad_fn=<AddmmBackward>)"
            ]
          },
          "metadata": {
            "tags": []
          },
          "execution_count": 6
        }
      ]
    },
    {
      "cell_type": "markdown",
      "metadata": {
        "id": "m-uRdnnpf8bY"
      },
      "source": [
        "### 4.1.2 Module子类"
      ]
    },
    {
      "cell_type": "markdown",
      "metadata": {
        "id": "VVJGYY1Zgg6-"
      },
      "source": [
        "1. Sequential"
      ]
    },
    {
      "cell_type": "code",
      "metadata": {
        "id": "EkfKAY0gaFxW"
      },
      "source": [
        "class MySequential(nn.Module):\n",
        "    from collections import OrderedDict\n",
        "    def __init__(self, *args):\n",
        "        super(MySequential, self).__init__()\n",
        "        if len(args) ==1  and isinstance(args[0], OrderedDict):\n",
        "            for key,module in args[0].items():\n",
        "                self.add_module(key, module)\n",
        "        else:\n",
        "            for idx, module in enumerate(args):\n",
        "                self.add_module(str(idx), module)\n",
        "    def forward(self, input):\n",
        "        # self._modules返回一个 OrderedDict，保证会按照成员添加时的顺序遍历成员\n",
        "        for module in self._modules.values():\n",
        "            input = module(input)\n",
        "        return input"
      ],
      "execution_count": 12,
      "outputs": []
    },
    {
      "cell_type": "code",
      "metadata": {
        "colab": {
          "base_uri": "https://localhost:8080/"
        },
        "id": "FlVO9qqyh3xY",
        "outputId": "f95c6a6e-2a31-461c-bd78-682fe0505611"
      },
      "source": [
        "net = MySequential(\n",
        "        nn.Linear(784, 256),\n",
        "        nn.ReLU(),\n",
        "        nn.Linear(256, 10), \n",
        "        )\n",
        "print(net)\n",
        "net(X)"
      ],
      "execution_count": 13,
      "outputs": [
        {
          "output_type": "stream",
          "text": [
            "MySequential(\n",
            "  (0): Linear(in_features=784, out_features=256, bias=True)\n",
            "  (1): ReLU()\n",
            "  (2): Linear(in_features=256, out_features=10, bias=True)\n",
            ")\n"
          ],
          "name": "stdout"
        },
        {
          "output_type": "execute_result",
          "data": {
            "text/plain": [
              "tensor([[-0.0452, -0.0486,  0.3853, -0.3618,  0.0055, -0.0869, -0.0605, -0.0162,\n",
              "         -0.0527, -0.2875],\n",
              "        [-0.1462,  0.0566,  0.3440, -0.2721, -0.0286, -0.0554, -0.1379,  0.0618,\n",
              "         -0.0851, -0.2249]], grad_fn=<AddmmBackward>)"
            ]
          },
          "metadata": {
            "tags": []
          },
          "execution_count": 13
        }
      ]
    },
    {
      "cell_type": "markdown",
      "metadata": {
        "id": "B4yfIBqqj6JW"
      },
      "source": [
        "2. ModuleList"
      ]
    },
    {
      "cell_type": "code",
      "metadata": {
        "colab": {
          "base_uri": "https://localhost:8080/"
        },
        "id": "4cIlwsp_j0r-",
        "outputId": "16e8160f-0042-4830-e13f-6fd9b520bbf1"
      },
      "source": [
        "net = nn.ModuleList([nn.Linear(784, 256), nn.ReLU()])\n",
        "net.append(nn.Linear(256, 10)) \n",
        "print(net[-1])  \n",
        "print(net)"
      ],
      "execution_count": 14,
      "outputs": [
        {
          "output_type": "stream",
          "text": [
            "Linear(in_features=256, out_features=10, bias=True)\n",
            "ModuleList(\n",
            "  (0): Linear(in_features=784, out_features=256, bias=True)\n",
            "  (1): ReLU()\n",
            "  (2): Linear(in_features=256, out_features=10, bias=True)\n",
            ")\n"
          ],
          "name": "stdout"
        }
      ]
    },
    {
      "cell_type": "code",
      "metadata": {
        "id": "97iWPPmkkCEt"
      },
      "source": [
        "class MyModule(nn.Module):\n",
        "    def __init__(self):\n",
        "        super(MyModule, self).__init__()\n",
        "        self.linears = nn.ModuleList([nn.Linear(10, 10) for i in range(10)])\n",
        "\n",
        "    def forward(self, x):\n",
        "        # ModuleList can act as an iterable, or be indexed using ints\n",
        "        for i, l in enumerate(self.linears):\n",
        "            x = self.linears[i // 2](x) + l(x)\n",
        "        return x"
      ],
      "execution_count": 15,
      "outputs": []
    },
    {
      "cell_type": "code",
      "metadata": {
        "colab": {
          "base_uri": "https://localhost:8080/"
        },
        "id": "CyZnukeSld1q",
        "outputId": "2aa53491-157e-475a-923c-e6b2566d5c9e"
      },
      "source": [
        "class Module_ModuleList(nn.Module):\n",
        "    def __init__(self):\n",
        "        super(Module_ModuleList, self).__init__()\n",
        "        self.linears = nn.ModuleList([nn.Linear(10, 10)])\n",
        "    \n",
        "class Module_List(nn.Module):\n",
        "    def __init__(self):\n",
        "        super(Module_List, self).__init__()\n",
        "        self.linears = [nn.Linear(10, 10)]\n",
        "\n",
        "net1 = Module_ModuleList()\n",
        "net2 = Module_List()\n",
        "\n",
        "print(\"net1:\")\n",
        "for p in net1.parameters():\n",
        "    print(p.size())\n",
        "\n",
        "print(\"net2:\")\n",
        "for p in net2.parameters():\n",
        "    print(p)\n"
      ],
      "execution_count": 16,
      "outputs": [
        {
          "output_type": "stream",
          "text": [
            "net1:\n",
            "torch.Size([10, 10])\n",
            "torch.Size([10])\n",
            "net2:\n"
          ],
          "name": "stdout"
        }
      ]
    },
    {
      "cell_type": "markdown",
      "metadata": {
        "id": "jRvdQrzolmxJ"
      },
      "source": [
        "3. ModuleDict"
      ]
    },
    {
      "cell_type": "code",
      "metadata": {
        "colab": {
          "base_uri": "https://localhost:8080/"
        },
        "id": "zjPL4-n7ljk5",
        "outputId": "12cd89b7-3808-4628-9a8b-57950d297d93"
      },
      "source": [
        "net = nn.ModuleDict({\n",
        "    'linear': nn.Linear(784, 256),\n",
        "    'act': nn.ReLU(),\n",
        "})\n",
        "net['output'] = nn.Linear(256, 10) \n",
        "print(net['linear']) \n",
        "print(net.output)\n",
        "print(net)\n"
      ],
      "execution_count": 18,
      "outputs": [
        {
          "output_type": "stream",
          "text": [
            "Linear(in_features=784, out_features=256, bias=True)\n",
            "Linear(in_features=256, out_features=10, bias=True)\n",
            "ModuleDict(\n",
            "  (linear): Linear(in_features=784, out_features=256, bias=True)\n",
            "  (act): ReLU()\n",
            "  (output): Linear(in_features=256, out_features=10, bias=True)\n",
            ")\n"
          ],
          "name": "stdout"
        }
      ]
    },
    {
      "cell_type": "markdown",
      "metadata": {
        "id": "Kjim6F0Rl6ya"
      },
      "source": [
        "### 4.1.3 构造复杂的网络"
      ]
    },
    {
      "cell_type": "code",
      "metadata": {
        "id": "AhYRuzqqlxLP"
      },
      "source": [
        "class FancyMLP(nn.Module):\n",
        "    def __init__(self, *args):\n",
        "        super(FancyMLP, self).__init__()\n",
        "        self.rand_weight = torch.rand((20, 20), requires_grad=False)\n",
        "        self.linear = nn.Linear(20, 20)\n",
        "    \n",
        "    def forward(self, x):\n",
        "        x = self.linear(x)\n",
        "        x = nn.functional.relu(torch.mm(x, self.rand_weight.data) + 1)\n",
        "        x = self.linear(x)\n",
        "        while x.norm().item() > 1:\n",
        "            x /= 2\n",
        "        if x.norm().item() < 0.8:\n",
        "            x *= 10\n",
        "        return x.sum()\n"
      ],
      "execution_count": 23,
      "outputs": []
    },
    {
      "cell_type": "code",
      "metadata": {
        "colab": {
          "base_uri": "https://localhost:8080/"
        },
        "id": "rUUJl-enntlF",
        "outputId": "4fe641f6-b8e2-4f15-f564-ebd22f958501"
      },
      "source": [
        "X = torch.rand(2, 20)\n",
        "net = FancyMLP()\n",
        "print(net)\n",
        "net(X)\n"
      ],
      "execution_count": 24,
      "outputs": [
        {
          "output_type": "stream",
          "text": [
            "FancyMLP(\n",
            "  (linear): Linear(in_features=20, out_features=20, bias=True)\n",
            ")\n"
          ],
          "name": "stdout"
        },
        {
          "output_type": "execute_result",
          "data": {
            "text/plain": [
              "tensor(-0.9318, grad_fn=<SumBackward0>)"
            ]
          },
          "metadata": {
            "tags": []
          },
          "execution_count": 24
        }
      ]
    },
    {
      "cell_type": "code",
      "metadata": {
        "colab": {
          "base_uri": "https://localhost:8080/"
        },
        "id": "HLLa8k3XnvJ4",
        "outputId": "4a0cb834-3cc5-45e0-f909-8a0c46d43260"
      },
      "source": [
        "class NestMLP(nn.Module):\n",
        "    def __init__(self, **kwargs):\n",
        "        super(NestMLP, self).__init__(**kwargs)\n",
        "        self.net = nn.Sequential(nn.Linear(40, 30), nn.ReLU()) \n",
        "\n",
        "    def forward(self, x):\n",
        "        return self.net(x)\n",
        "\n",
        "net = nn.Sequential(NestMLP(), nn.Linear(30, 20), FancyMLP())\n",
        "\n",
        "X = torch.rand(2, 40)\n",
        "print(net)\n",
        "net(X)\n"
      ],
      "execution_count": 25,
      "outputs": [
        {
          "output_type": "stream",
          "text": [
            "Sequential(\n",
            "  (0): NestMLP(\n",
            "    (net): Sequential(\n",
            "      (0): Linear(in_features=40, out_features=30, bias=True)\n",
            "      (1): ReLU()\n",
            "    )\n",
            "  )\n",
            "  (1): Linear(in_features=30, out_features=20, bias=True)\n",
            "  (2): FancyMLP(\n",
            "    (linear): Linear(in_features=20, out_features=20, bias=True)\n",
            "  )\n",
            ")\n"
          ],
          "name": "stdout"
        },
        {
          "output_type": "execute_result",
          "data": {
            "text/plain": [
              "tensor(6.2916, grad_fn=<SumBackward0>)"
            ]
          },
          "metadata": {
            "tags": []
          },
          "execution_count": 25
        }
      ]
    },
    {
      "cell_type": "code",
      "metadata": {
        "id": "otwUUJTwn7pQ"
      },
      "source": [
        ""
      ],
      "execution_count": null,
      "outputs": []
    }
  ]
}