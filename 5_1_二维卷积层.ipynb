{
  "nbformat": 4,
  "nbformat_minor": 0,
  "metadata": {
    "colab": {
      "name": "5.1 二维卷积层.ipynb",
      "provenance": [],
      "mount_file_id": "15MmTOtEXGsvrIX9-_RsrSlotLA9BCxT_",
      "authorship_tag": "ABX9TyOMhN/rHp7J0MabsWVNbgYd",
      "include_colab_link": true
    },
    "kernelspec": {
      "name": "python3",
      "display_name": "Python 3"
    },
    "language_info": {
      "name": "python"
    }
  },
  "cells": [
    {
      "cell_type": "markdown",
      "metadata": {
        "id": "view-in-github",
        "colab_type": "text"
      },
      "source": [
        "<a href=\"https://colab.research.google.com/github/liuxiao916/Dive_into_DL_PyTorch/blob/main/5_1_%E4%BA%8C%E7%BB%B4%E5%8D%B7%E7%A7%AF%E5%B1%82.ipynb\" target=\"_parent\"><img src=\"https://colab.research.google.com/assets/colab-badge.svg\" alt=\"Open In Colab\"/></a>"
      ]
    },
    {
      "cell_type": "markdown",
      "metadata": {
        "id": "7SUKAgFtabY7"
      },
      "source": [
        "## 5.1 二维卷积层 "
      ]
    },
    {
      "cell_type": "markdown",
      "metadata": {
        "id": "HmcyvE5JahdM"
      },
      "source": [
        "### 5.1.1 二维互相关运算"
      ]
    },
    {
      "cell_type": "code",
      "metadata": {
        "colab": {
          "base_uri": "https://localhost:8080/"
        },
        "id": "wphS7Z_nUTpR",
        "outputId": "e2b8cb36-0989-457d-c122-d1fb9f28e578"
      },
      "source": [
        "from google.colab import drive\n",
        "drive.mount('/content/drive')\n"
      ],
      "execution_count": 1,
      "outputs": [
        {
          "output_type": "stream",
          "text": [
            "Drive already mounted at /content/drive; to attempt to forcibly remount, call drive.mount(\"/content/drive\", force_remount=True).\n"
          ],
          "name": "stdout"
        }
      ]
    },
    {
      "cell_type": "code",
      "metadata": {
        "colab": {
          "base_uri": "https://localhost:8080/"
        },
        "id": "Ufsb1qs2VhJL",
        "outputId": "f253b0e7-e170-4923-85dc-dc8c92bdcc30"
      },
      "source": [
        "%cd /content/drive/MyDrive/Dive Into DL\n",
        "import d2lzh_pytorch"
      ],
      "execution_count": 2,
      "outputs": [
        {
          "output_type": "stream",
          "text": [
            "/content/drive/MyDrive/Dive Into DL\n"
          ],
          "name": "stdout"
        }
      ]
    },
    {
      "cell_type": "code",
      "metadata": {
        "id": "g2ffjnhZWYEW"
      },
      "source": [
        "import torch \n",
        "from torch import nn"
      ],
      "execution_count": 3,
      "outputs": []
    },
    {
      "cell_type": "code",
      "metadata": {
        "id": "OjByOs8YZpNf"
      },
      "source": [
        "def corr2d(X, K):\n",
        "    h, w = K.shape\n",
        "    Y = torch.zeros((X.shape[0]-h+1,X.shape[1]-w+1))\n",
        "    for i in range(Y.shape[0]):\n",
        "        for j in range(Y.shape[1]):\n",
        "            Y[i,j] = (X[i:i+h,j:j+w]*K).sum()\n",
        "    return Y"
      ],
      "execution_count": 4,
      "outputs": []
    },
    {
      "cell_type": "code",
      "metadata": {
        "colab": {
          "base_uri": "https://localhost:8080/"
        },
        "id": "EwQ-69oiaLlo",
        "outputId": "fc756fd1-a147-4791-ec7e-6b453159d410"
      },
      "source": [
        "X = torch.tensor([[0,1,2],[3,4,5],[6,7,8]])\n",
        "K = torch.tensor([[0,1],[2,3]])\n",
        "corr2d(X,K)"
      ],
      "execution_count": 5,
      "outputs": [
        {
          "output_type": "execute_result",
          "data": {
            "text/plain": [
              "tensor([[19., 25.],\n",
              "        [37., 43.]])"
            ]
          },
          "metadata": {
            "tags": []
          },
          "execution_count": 5
        }
      ]
    },
    {
      "cell_type": "markdown",
      "metadata": {
        "id": "FS1zle7qamgk"
      },
      "source": [
        "### 5.1.2 二维卷积层"
      ]
    },
    {
      "cell_type": "code",
      "metadata": {
        "id": "GNVgKw7JaZT6"
      },
      "source": [
        "class Conv2D(nn.Module):\n",
        "    def __init__(self, kernel_size, **kwargs):\n",
        "        super(Conv2D, self).__init__(**kwargs)\n",
        "        self.weight = nn.Parameter(torch.randn(kernel_size))\n",
        "        self.bias = nn.Parameter(torch.randn(1))\n",
        "\n",
        "    def forward(self, x):\n",
        "        return corr2d(x, self.weight.data()) + self.bias.data()\n",
        "        "
      ],
      "execution_count": 6,
      "outputs": []
    },
    {
      "cell_type": "code",
      "metadata": {
        "id": "HcXrTiTgcIEn"
      },
      "source": [
        "a = nn.Parameter(torch.randn(1))"
      ],
      "execution_count": 7,
      "outputs": []
    },
    {
      "cell_type": "markdown",
      "metadata": {
        "id": "aNrL-ewQdQ25"
      },
      "source": [
        "### 5.1.3 图像中物体边缘检测"
      ]
    },
    {
      "cell_type": "code",
      "metadata": {
        "colab": {
          "base_uri": "https://localhost:8080/"
        },
        "id": "is-ZhaAmcNhw",
        "outputId": "79aef5b7-03f5-4d3a-feb8-d4fe8e0d0525"
      },
      "source": [
        "X = torch.ones((6,8))\n",
        "X[:,2:6] = 0 \n",
        "X"
      ],
      "execution_count": 8,
      "outputs": [
        {
          "output_type": "execute_result",
          "data": {
            "text/plain": [
              "tensor([[1., 1., 0., 0., 0., 0., 1., 1.],\n",
              "        [1., 1., 0., 0., 0., 0., 1., 1.],\n",
              "        [1., 1., 0., 0., 0., 0., 1., 1.],\n",
              "        [1., 1., 0., 0., 0., 0., 1., 1.],\n",
              "        [1., 1., 0., 0., 0., 0., 1., 1.],\n",
              "        [1., 1., 0., 0., 0., 0., 1., 1.]])"
            ]
          },
          "metadata": {
            "tags": []
          },
          "execution_count": 8
        }
      ]
    },
    {
      "cell_type": "code",
      "metadata": {
        "id": "ToBWCf0udZCv"
      },
      "source": [
        "K = torch.tensor([[1,-1]])"
      ],
      "execution_count": 9,
      "outputs": []
    },
    {
      "cell_type": "code",
      "metadata": {
        "colab": {
          "base_uri": "https://localhost:8080/"
        },
        "id": "ubIqDP4cdkTZ",
        "outputId": "19232879-5887-44ec-f3ab-c57591d777e6"
      },
      "source": [
        "Y = corr2d(X, K)\n",
        "Y"
      ],
      "execution_count": 10,
      "outputs": [
        {
          "output_type": "execute_result",
          "data": {
            "text/plain": [
              "tensor([[ 0.,  1.,  0.,  0.,  0., -1.,  0.],\n",
              "        [ 0.,  1.,  0.,  0.,  0., -1.,  0.],\n",
              "        [ 0.,  1.,  0.,  0.,  0., -1.,  0.],\n",
              "        [ 0.,  1.,  0.,  0.,  0., -1.,  0.],\n",
              "        [ 0.,  1.,  0.,  0.,  0., -1.,  0.],\n",
              "        [ 0.,  1.,  0.,  0.,  0., -1.,  0.]])"
            ]
          },
          "metadata": {
            "tags": []
          },
          "execution_count": 10
        }
      ]
    },
    {
      "cell_type": "markdown",
      "metadata": {
        "id": "3y5tkDtOe0Bp"
      },
      "source": [
        "### 5.1.4 通过数据学习核数组"
      ]
    },
    {
      "cell_type": "code",
      "metadata": {
        "colab": {
          "base_uri": "https://localhost:8080/"
        },
        "id": "qwxgfgsOdwuv",
        "outputId": "51ba86b4-3cd3-4f7b-d983-55eda79fd023"
      },
      "source": [
        "X = X.reshape((1,1,6,8))\n",
        "Y = Y.reshape((1,1,6,7))\n",
        "\n",
        "conv2d = nn.Conv2d(1,1,(1,2))\n",
        "lr = 0.01\n",
        "\n",
        "for i in range(20):\n",
        "    y_hat = conv2d(X)\n",
        "    l = ((y_hat - Y)**2).sum()\n",
        "    l.backward()\n",
        "\n",
        "    conv2d.weight.data -= lr * conv2d.weight.grad\n",
        "    conv2d.bias.data -= lr * conv2d.bias.grad\n",
        "\n",
        "    conv2d.weight.grad.fill_(0)\n",
        "    conv2d.bias.grad.fill_(0)\n",
        "    if (i+1)%2 == 0:\n",
        "        print('batch %d, loss %.3f' % (i+1,l.sum().item()))"
      ],
      "execution_count": 11,
      "outputs": [
        {
          "output_type": "stream",
          "text": [
            "batch 2, loss 6.252\n",
            "batch 4, loss 3.225\n",
            "batch 6, loss 1.859\n",
            "batch 8, loss 1.084\n",
            "batch 10, loss 0.638\n",
            "batch 12, loss 0.377\n",
            "batch 14, loss 0.224\n",
            "batch 16, loss 0.133\n",
            "batch 18, loss 0.080\n",
            "batch 20, loss 0.048\n"
          ],
          "name": "stdout"
        }
      ]
    },
    {
      "cell_type": "code",
      "metadata": {
        "colab": {
          "base_uri": "https://localhost:8080/"
        },
        "id": "qufwe7EOho_T",
        "outputId": "b68ef460-38de-41b3-e509-592a0ca08381"
      },
      "source": [
        "conv2d.weight.data"
      ],
      "execution_count": 12,
      "outputs": [
        {
          "output_type": "execute_result",
          "data": {
            "text/plain": [
              "tensor([[[[ 0.9475, -0.9421]]]])"
            ]
          },
          "metadata": {
            "tags": []
          },
          "execution_count": 12
        }
      ]
    },
    {
      "cell_type": "code",
      "metadata": {
        "id": "VONSBCsui07Q"
      },
      "source": [
        ""
      ],
      "execution_count": 12,
      "outputs": []
    }
  ]
}