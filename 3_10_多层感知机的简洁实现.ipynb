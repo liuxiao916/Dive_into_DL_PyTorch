{
  "nbformat": 4,
  "nbformat_minor": 0,
  "metadata": {
    "colab": {
      "name": "3.10 多层感知机的简洁实现.ipynb",
      "provenance": [],
      "authorship_tag": "ABX9TyMfy1I67yDvkgJFq3CYIF1h",
      "include_colab_link": true
    },
    "kernelspec": {
      "name": "python3",
      "display_name": "Python 3"
    },
    "language_info": {
      "name": "python"
    }
  },
  "cells": [
    {
      "cell_type": "markdown",
      "metadata": {
        "id": "view-in-github",
        "colab_type": "text"
      },
      "source": [
        "<a href=\"https://colab.research.google.com/github/liuxiao916/Dive_into_DL_PyTorch/blob/main/3_10_%E5%A4%9A%E5%B1%82%E6%84%9F%E7%9F%A5%E6%9C%BA%E7%9A%84%E7%AE%80%E6%B4%81%E5%AE%9E%E7%8E%B0.ipynb\" target=\"_parent\"><img src=\"https://colab.research.google.com/assets/colab-badge.svg\" alt=\"Open In Colab\"/></a>"
      ]
    },
    {
      "cell_type": "markdown",
      "metadata": {
        "id": "CP34mBI3206D"
      },
      "source": [
        "## 3.10 多层感知机的简洁实现"
      ]
    },
    {
      "cell_type": "code",
      "metadata": {
        "id": "EOkyrhth2eiO"
      },
      "source": [
        "%matplotlib inline\n",
        "import torch\n",
        "import torchvision\n",
        "import numpy as np"
      ],
      "execution_count": 1,
      "outputs": []
    },
    {
      "cell_type": "markdown",
      "metadata": {
        "id": "c6riYaZj27ce"
      },
      "source": [
        "### 3.10.1 定义模型"
      ]
    },
    {
      "cell_type": "code",
      "metadata": {
        "id": "9Wx6BWYe24eP"
      },
      "source": [
        "net= torch.nn.Sequential()\n",
        "net.add_module('L1',torch.nn.Linear(28*28,256))\n",
        "net.add_module('relu',torch.nn.ReLU())\n",
        "net.add_module('L2',torch.nn.Linear(256,10))"
      ],
      "execution_count": 2,
      "outputs": []
    },
    {
      "cell_type": "markdown",
      "metadata": {
        "id": "G2_b79K64H17"
      },
      "source": [
        "### 3.10.2 训练模型"
      ]
    },
    {
      "cell_type": "code",
      "metadata": {
        "colab": {
          "base_uri": "https://localhost:8080/"
        },
        "id": "iaa1ch8T3l1_",
        "outputId": "9df1d53a-a940-4d60-b915-aff1f123f1fc"
      },
      "source": [
        "Batch_size =256\n",
        "fashionmnist_train = torchvision.datasets.FashionMNIST(root = './data/fashionMNIST', train = True, transform=torchvision.transforms.ToTensor(),download=True)\n",
        "fashionmnist_train_dataloader = torch.utils.data.DataLoader(dataset= fashionmnist_train,batch_size = Batch_size, shuffle = True)\n",
        "fashionmnist_test = torchvision.datasets.FashionMNIST(root = './data/fashionMNIST', train = False, transform=torchvision.transforms.ToTensor(),download=True)\n",
        "fashionmnist_test_dataloader = torch.utils.data.DataLoader(dataset= fashionmnist_test,batch_size = Batch_size, shuffle = True)"
      ],
      "execution_count": 3,
      "outputs": [
        {
          "output_type": "stream",
          "text": [
            "/usr/local/lib/python3.7/dist-packages/torchvision/datasets/mnist.py:498: UserWarning: The given NumPy array is not writeable, and PyTorch does not support non-writeable tensors. This means you can write to the underlying (supposedly non-writeable) NumPy array using the tensor. You may want to copy the array to protect its data or make it writeable before converting it to a tensor. This type of warning will be suppressed for the rest of this program. (Triggered internally at  /pytorch/torch/csrc/utils/tensor_numpy.cpp:180.)\n",
            "  return torch.from_numpy(parsed.astype(m[2], copy=False)).view(*s)\n"
          ],
          "name": "stderr"
        }
      ]
    },
    {
      "cell_type": "code",
      "metadata": {
        "id": "cbxN9PPR5zV4"
      },
      "source": [
        "num_input =28*28\n",
        "def evaluate_accuracy(data_iter, net):\n",
        "    acc_sum, n = 0.0, 0 \n",
        "    for X,y in data_iter:\n",
        "        acc_sum += (net(X.reshape(-1,num_input)).argmax(dim=1) == y).float().sum().item()\n",
        "        n += y.shape[0]\n",
        "    return acc_sum/n"
      ],
      "execution_count": 4,
      "outputs": []
    },
    {
      "cell_type": "code",
      "metadata": {
        "colab": {
          "base_uri": "https://localhost:8080/"
        },
        "id": "t7cyRHqd4GCr",
        "outputId": "a3a62f65-4ae2-4dd2-f421-6f2944374b4a"
      },
      "source": [
        "loss = torch.nn.CrossEntropyLoss()\n",
        "optimizer = torch.optim.SGD(net.parameters(), lr=0.5)\n",
        "num_epochs = 5\n",
        "train_l_sum, train_acc_sum, n =0.0, 0.0, 0\n",
        "\n",
        "for epoch in range(num_epochs):\n",
        "    for X,y in fashionmnist_train_dataloader:\n",
        "        y_hat = net(X.view(-1,28*28))\n",
        "        l = loss(y_hat,y)\n",
        "\n",
        "        optimizer.zero_grad()\n",
        "        l.backward()\n",
        "        optimizer.step()\n",
        "\n",
        "        train_l_sum += l.item()\n",
        "        train_acc_sum += (y_hat.argmax(dim=1) == y).sum().item()\n",
        "        n += y.shape[0]\n",
        "    test_acc = evaluate_accuracy(fashionmnist_test_dataloader, net)\n",
        "    print('epoch %d, loss %.4f, train acc %.3f, test acc %.3f' % (epoch + 1, train_l_sum / n, train_acc_sum / n, test_acc))\n"
      ],
      "execution_count": 5,
      "outputs": [
        {
          "output_type": "stream",
          "text": [
            "epoch 1, loss 0.0030, train acc 0.725, test acc 0.801\n",
            "epoch 2, loss 0.0024, train acc 0.774, test acc 0.804\n",
            "epoch 3, loss 0.0021, train acc 0.798, test acc 0.716\n",
            "epoch 4, loss 0.0020, train acc 0.813, test acc 0.838\n",
            "epoch 5, loss 0.0019, train acc 0.823, test acc 0.858\n"
          ],
          "name": "stdout"
        }
      ]
    },
    {
      "cell_type": "code",
      "metadata": {
        "id": "2B4910J36YPV"
      },
      "source": [
        ""
      ],
      "execution_count": 5,
      "outputs": []
    }
  ]
}